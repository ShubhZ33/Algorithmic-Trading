{
  "metadata": {
    "kernelspec": {
      "language": "python",
      "display_name": "Python 3",
      "name": "python3"
    },
    "language_info": {
      "name": "python",
      "version": "3.10.12",
      "mimetype": "text/x-python",
      "codemirror_mode": {
        "name": "ipython",
        "version": 3
      },
      "pygments_lexer": "ipython3",
      "nbconvert_exporter": "python",
      "file_extension": ".py"
    },
    "kaggle": {
      "accelerator": "none",
      "dataSources": [],
      "dockerImageVersionId": 30527,
      "isInternetEnabled": true,
      "language": "python",
      "sourceType": "notebook",
      "isGpuEnabled": false
    },
    "colab": {
      "name": "Algorithmic Trading",
      "provenance": [],
      "include_colab_link": true
    }
  },
  "nbformat_minor": 0,
  "nbformat": 4,
  "cells": [
    {
      "cell_type": "markdown",
      "metadata": {
        "id": "view-in-github",
        "colab_type": "text"
      },
      "source": [
        "<a href=\"https://colab.research.google.com/github/ShubhZ33/Algorithmic-Trading/blob/main/Algorithmic_Trading.ipynb\" target=\"_parent\"><img src=\"https://colab.research.google.com/assets/colab-badge.svg\" alt=\"Open In Colab\"/></a>"
      ]
    },
    {
      "cell_type": "markdown",
      "source": [
        "# Introduction\n",
        "\n",
        "- Algorithmic Trading is the use of algorithms in the financial market to make trading decisions. JP Morgan Chase & Co. is one of the businesses that use Algorithmic Trading for investment decisions."
      ],
      "metadata": {
        "id": "nuVjB4V6FT94"
      }
    },
    {
      "cell_type": "markdown",
      "source": [
        "# What is Algorithmic Trading?\n",
        "\n",
        "- Algorithmic Trading means using algorithms in buying and selling decisions in the financial market. In an algorithmic trading strategy, a set of predefined rules are used to determine when to buy a financial instrument and when to sell it.\n",
        "\n",
        "- In simple words, Algorithmic Trading is a way of buying and selling automatically and efficiently, which is always better than trading manually."
      ],
      "metadata": {
        "id": "BQQGJAnOFT97"
      }
    },
    {
      "cell_type": "markdown",
      "source": [
        "# How Algorithmic Trading Works\n",
        "\n",
        "- Suppose a trader follows these simple trade criteria:\n",
        "\n",
        "    - Buy 50 shares of a stock when its 50-day moving average goes above the 200-day moving average. (A moving average is an average of past data points that smooths out day-to-day price fluctuations and thereby identifies trends.)  \n",
        "\n",
        "    - Sell shares of the stock when its 50-day moving average goes below the 200-day moving average.\n",
        "\n",
        "- Using these two simple instructions, a computer program will automatically monitor the stock price (and the moving average indicators) and place the buy and sell orders when the defined conditions are met. The trader no longer needs to monitor live prices and graphs or put in the orders manually. The algorithmic trading system does this automatically by correctly identifying the trading opportunity."
      ],
      "metadata": {
        "id": "C2zR_z43FT97"
      }
    },
    {
      "cell_type": "markdown",
      "source": [
        "# Advantages and Disadvantages\n",
        "\n",
        "## Advantages\n",
        "\n",
        "- Algo-trading provides the following advantages:\n",
        "\n",
        "    - Best Execution: Trades are often executed at the best possible prices.\n",
        "\n",
        "    - Low Latency: Trade order placement is instant and accurate (there is a high chance of execution at the desired levels). Trades are timed correctly and instantly to avoid significant price changes.\n",
        "\n",
        "    - Reduced transaction costs.\n",
        "\n",
        "    - Simultaneous automated checks on multiple market conditions.\n",
        "\n",
        "    - No Human Error: Reduced risk of manual errors or mistakes when placing trades. Also negates human traders; tendency to be swayed by emotional and psychological factors.\n",
        "\n",
        "    - Backtesting: Algo-trading can be backtested using available historical and real-time data to see if it is a viable trading strategy.\n",
        "\n",
        "\n",
        "## Disadvantages\n",
        "\n",
        "- There are also several drawbacks or disadvantages of algorithmic trading to consider:\n",
        "\n",
        "    - Latency: Algorithmic trading relies on fast execution speeds and low latency, which is the delay in the execution of a trade. If a trade is not executed quickly enough, it may result in missed opportunities or losses.\n",
        "\n",
        "    - Black Swan Events: Algorithmic trading relies on historical data and mathematical models to predict future market movements. However, unforeseen market disruptions, known as black swan events, can occur, which can result in losses for algorithmic traders.\n",
        "\n",
        "    - Dependence on Technology: Algorithmic trading relies on technology, including computer programs and high-speed internet connections. If there are technical issues or failures, it can disrupt the trading process and result in losses.\n",
        "\n",
        "    - Market Impact: Large algorithmic trades can have a significant impact on market prices, which can result in losses for traders who are not able to adjust their trades in response to these changes. Algo trading has also been suspected of increasing market volatility at times, even leading to so-called flash crashes.\n",
        "\n",
        "    - Regulation: Algorithmic trading is subject to various regulatory requirements and oversight, which can be complex and time-consuming to comply with.\n",
        "\n",
        "    - High Capital Costs: The development and implementation of algorithmic trading systems can be costly, and traders may need to pay ongoing fees for software and data feeds.\n",
        "\n",
        "    - Limited Customization: Algorithmic trading systems are based on pre-defined rules and instructions, which can limit the ability of traders to customize their trades to meet their specific needs or preferences.\n",
        "\n",
        "    - Lack of Human Judgment: Algorithmic trading relies on mathematical models and historical data, which means that it does not take into account the subjective and qualitative factors that can influence market movements. This lack of human judgment can be a disadvantage for traders who prefer a more intuitive or instinctive approach to trading."
      ],
      "metadata": {
        "id": "V8FG8WFfFT97"
      }
    },
    {
      "cell_type": "markdown",
      "source": [
        "# Pros & Cons\n",
        "\n",
        "## Pros\n",
        "\n",
        "   - Instant order confirmation\n",
        "\n",
        "   - Potential for best price and lowest cost trades\n",
        "\n",
        "   - No human error in trade execution\n",
        "\n",
        "   - Not biased by human emotion\n",
        "\n",
        "## Cons\n",
        "\n",
        "   - Lack of human judgment in real-time\n",
        "\n",
        "   - Can lead to increased volatility or market instability at times\n",
        "\n",
        "   - High capital outlays to build and maintain software & hardware\n",
        "\n",
        "   - May be subject to additional regulatory scrutiny"
      ],
      "metadata": {
        "id": "bEVVoNyqFT98"
      }
    },
    {
      "cell_type": "markdown",
      "source": [
        "# Algo-Trading Time Scales\n",
        "\n",
        "- Algo-trading is used in many forms of trading and investment activities including:\n",
        "\n",
        "     - Mid- to long-term investors or buy-side firms—pension funds, mutual funds, insurance companies—use algo-trading to purchase stocks in large quantities when they do not want to influence stock prices with discrete, large-volume investments.\n",
        "\n",
        "     - Short-term traders and sell-side participants—market makers (such as brokerage houses), speculators, and arbitrageurs—benefit from automated trade execution; in addition, algo-trading aids in creating sufficient liquidity for sellers in the market.\n",
        "\n",
        "     - Systematic traders—trend followers, hedge funds, or pairs traders (a market-neutral trading strategy that matches a long position with a short position in a pair of highly correlated instruments such as two stocks, exchange-traded funds (ETFs), or currencies)—find it much more efficient to program their trading rules and let the program trade automatically."
      ],
      "metadata": {
        "id": "vBP97idyFT98"
      }
    },
    {
      "cell_type": "markdown",
      "source": [
        "# Momentum Investing\n",
        "\n",
        "- Momentum investing is a system of buying stocks or other securities that have had high returns over the past three to twelve months, and selling those that have had poor returns over the same period.\n",
        "\n",
        "- While momentum investing is well-established as a phenomenon no consensus exists about the explanation for this strategy, and economists have trouble reconciling momentum with the efficient market hypothesis and random walk hypothesis. Two main hypotheses have been submitted to explain the momentum effect in terms of an efficient market. In the first, it is assumed that momentum investors bear significant risk for assuming this strategy, and, therefore, the high returns are a compensation for the risk.Momentum strategies often involve disproportionately trading in stocks with high bid-ask spreads and so it is important to take transactions costs into account when evaluating momentum profitability.The second theory assumes that momentum investors are exploiting behavioral shortcomings in other investors, such as investor herding, investor over- and underreaction, disposition effects and confirmation bias.\n",
        "\n",
        "- Seasonal or calendar effects may help to explain some of the reason for success in the momentum investing strategy. If a stock has performed poorly for months leading up to the end of the year, investors may decide to sell their holdings for tax purposes causing for example the January effect. Increased supply of shares in the market drive its price down, causing others to sell. Once the reason for tax selling is eliminated, the stock's price tends to recover.\n",
        "\n",
        "### [wikipedia](https://en.wikipedia.org/wiki/Momentum_investing)"
      ],
      "metadata": {
        "id": "zihLMa-5FT98"
      }
    },
    {
      "cell_type": "markdown",
      "source": [
        "# Get Stock Price Data\n",
        "\n",
        "- Yahoo Finance is one of the most popular websites to collect stock price data. You need to visit the website, enter the company’s name or stock symbol, and you can easily download the dataset. But if you want to get the latest dataset every time you are running your code, you need to use the yfinance API. yfinance is an API provided by Yahoo Finance to collect the latest stock price data.\n",
        "\n",
        "- To use this API, you need to install it by using the pip command in your terminal or command prompt as mentioned below:\n",
        "\n",
        "    - pip install yfinance"
      ],
      "metadata": {
        "id": "5F8y0sxGFT98"
      }
    },
    {
      "cell_type": "code",
      "source": [
        "pip install yfinance"
      ],
      "metadata": {
        "execution": {
          "iopub.status.busy": "2024-07-19T14:33:24.022802Z",
          "iopub.execute_input": "2024-07-19T14:33:24.0237Z",
          "iopub.status.idle": "2024-07-19T14:33:37.946681Z",
          "shell.execute_reply.started": "2024-07-19T14:33:24.023652Z",
          "shell.execute_reply": "2024-07-19T14:33:37.945067Z"
        },
        "trusted": true,
        "id": "EOSQQnclFT99",
        "outputId": "f7d7842a-f8b7-418e-f26c-76b053875171",
        "colab": {
          "base_uri": "https://localhost:8080/"
        }
      },
      "execution_count": 1,
      "outputs": [
        {
          "output_type": "stream",
          "name": "stdout",
          "text": [
            "Requirement already satisfied: yfinance in /usr/local/lib/python3.11/dist-packages (0.2.56)\n",
            "Requirement already satisfied: pandas>=1.3.0 in /usr/local/lib/python3.11/dist-packages (from yfinance) (2.2.2)\n",
            "Requirement already satisfied: numpy>=1.16.5 in /usr/local/lib/python3.11/dist-packages (from yfinance) (2.0.2)\n",
            "Requirement already satisfied: requests>=2.31 in /usr/local/lib/python3.11/dist-packages (from yfinance) (2.32.3)\n",
            "Requirement already satisfied: multitasking>=0.0.7 in /usr/local/lib/python3.11/dist-packages (from yfinance) (0.0.11)\n",
            "Requirement already satisfied: platformdirs>=2.0.0 in /usr/local/lib/python3.11/dist-packages (from yfinance) (4.3.7)\n",
            "Requirement already satisfied: pytz>=2022.5 in /usr/local/lib/python3.11/dist-packages (from yfinance) (2025.2)\n",
            "Requirement already satisfied: frozendict>=2.3.4 in /usr/local/lib/python3.11/dist-packages (from yfinance) (2.4.6)\n",
            "Requirement already satisfied: peewee>=3.16.2 in /usr/local/lib/python3.11/dist-packages (from yfinance) (3.17.9)\n",
            "Requirement already satisfied: beautifulsoup4>=4.11.1 in /usr/local/lib/python3.11/dist-packages (from yfinance) (4.13.4)\n",
            "Requirement already satisfied: soupsieve>1.2 in /usr/local/lib/python3.11/dist-packages (from beautifulsoup4>=4.11.1->yfinance) (2.7)\n",
            "Requirement already satisfied: typing-extensions>=4.0.0 in /usr/local/lib/python3.11/dist-packages (from beautifulsoup4>=4.11.1->yfinance) (4.13.2)\n",
            "Requirement already satisfied: python-dateutil>=2.8.2 in /usr/local/lib/python3.11/dist-packages (from pandas>=1.3.0->yfinance) (2.9.0.post0)\n",
            "Requirement already satisfied: tzdata>=2022.7 in /usr/local/lib/python3.11/dist-packages (from pandas>=1.3.0->yfinance) (2025.2)\n",
            "Requirement already satisfied: charset-normalizer<4,>=2 in /usr/local/lib/python3.11/dist-packages (from requests>=2.31->yfinance) (3.4.1)\n",
            "Requirement already satisfied: idna<4,>=2.5 in /usr/local/lib/python3.11/dist-packages (from requests>=2.31->yfinance) (3.10)\n",
            "Requirement already satisfied: urllib3<3,>=1.21.1 in /usr/local/lib/python3.11/dist-packages (from requests>=2.31->yfinance) (2.4.0)\n",
            "Requirement already satisfied: certifi>=2017.4.17 in /usr/local/lib/python3.11/dist-packages (from requests>=2.31->yfinance) (2025.1.31)\n",
            "Requirement already satisfied: six>=1.5 in /usr/local/lib/python3.11/dist-packages (from python-dateutil>=2.8.2->pandas>=1.3.0->yfinance) (1.17.0)\n"
          ]
        }
      ]
    },
    {
      "cell_type": "markdown",
      "source": [
        "# Import Libraries"
      ],
      "metadata": {
        "id": "PmoiMbqCFT9-"
      }
    },
    {
      "cell_type": "code",
      "source": [
        "import pandas as pd\n",
        "import plotly.graph_objs as go\n",
        "from plotly.subplots import make_subplots\n",
        "import plotly.express as px\n",
        "import yfinance as yf"
      ],
      "metadata": {
        "execution": {
          "iopub.status.busy": "2024-07-19T14:33:37.949703Z",
          "iopub.execute_input": "2024-07-19T14:33:37.95014Z",
          "iopub.status.idle": "2024-07-19T14:33:37.957024Z",
          "shell.execute_reply.started": "2024-07-19T14:33:37.950077Z",
          "shell.execute_reply": "2024-07-19T14:33:37.955785Z"
        },
        "trusted": true,
        "id": "YATgch8_FT9-"
      },
      "execution_count": 2,
      "outputs": []
    },
    {
      "cell_type": "markdown",
      "source": [
        "# Apple's stock data"
      ],
      "metadata": {
        "id": "H2oPDdjpFT9_"
      }
    },
    {
      "cell_type": "code",
      "source": [
        "# Get Apple's stock data from yahoo finance\n",
        "stock = yf.Ticker(\"AAPL\")\n",
        "data = stock.history(period=\"1y\")\n",
        "print(data.head())"
      ],
      "metadata": {
        "execution": {
          "iopub.status.busy": "2024-07-19T14:33:37.958951Z",
          "iopub.execute_input": "2024-07-19T14:33:37.959477Z",
          "iopub.status.idle": "2024-07-19T14:33:38.127079Z",
          "shell.execute_reply.started": "2024-07-19T14:33:37.959429Z",
          "shell.execute_reply": "2024-07-19T14:33:38.125862Z"
        },
        "trusted": true,
        "id": "fqEWPf-AFT9_",
        "outputId": "5ee06800-0e3c-41b5-ba8e-2b167164043a",
        "colab": {
          "base_uri": "https://localhost:8080/"
        }
      },
      "execution_count": 3,
      "outputs": [
        {
          "output_type": "stream",
          "name": "stdout",
          "text": [
            "                                 Open        High         Low       Close  \\\n",
            "Date                                                                        \n",
            "2024-04-29 00:00:00-04:00  172.555207  175.202709  172.286487  172.684601   \n",
            "2024-04-30 00:00:00-04:00  172.515396  174.167598  169.201044  169.529495   \n",
            "2024-05-01 00:00:00-04:00  168.783032  171.898327  168.315239  168.504349   \n",
            "2024-05-02 00:00:00-04:00  171.699267  172.604994  170.086885  172.216827   \n",
            "2024-05-03 00:00:00-04:00  185.772810  186.121171  181.801571  182.518188   \n",
            "\n",
            "                              Volume  Dividends  Stock Splits  \n",
            "Date                                                           \n",
            "2024-04-29 00:00:00-04:00   68169400        0.0           0.0  \n",
            "2024-04-30 00:00:00-04:00   65934800        0.0           0.0  \n",
            "2024-05-01 00:00:00-04:00   50383100        0.0           0.0  \n",
            "2024-05-02 00:00:00-04:00   94214900        0.0           0.0  \n",
            "2024-05-03 00:00:00-04:00  163224100        0.0           0.0  \n"
          ]
        }
      ]
    },
    {
      "cell_type": "markdown",
      "source": [
        "# Calculation of Momentum"
      ],
      "metadata": {
        "id": "TmPtC03UFT9_"
      }
    },
    {
      "cell_type": "code",
      "source": [
        "# Calculation of momentum\n",
        "data['momentum'] = data['Close'].pct_change()"
      ],
      "metadata": {
        "execution": {
          "iopub.status.busy": "2024-07-19T14:33:38.128546Z",
          "iopub.execute_input": "2024-07-19T14:33:38.128913Z",
          "iopub.status.idle": "2024-07-19T14:33:38.136512Z",
          "shell.execute_reply.started": "2024-07-19T14:33:38.128882Z",
          "shell.execute_reply": "2024-07-19T14:33:38.135026Z"
        },
        "trusted": true,
        "id": "-h3GjrcIFT9_"
      },
      "execution_count": 7,
      "outputs": []
    },
    {
      "cell_type": "markdown",
      "source": [
        "# Buying/Selling Markers"
      ],
      "metadata": {
        "id": "X8tTdIqFFT9_"
      }
    },
    {
      "cell_type": "code",
      "source": [
        "# Creating subplots to show momentum and buying/selling markers\n",
        "figure = make_subplots(rows=2, cols=1)\n",
        "figure.add_trace(go.Scatter(x=data.index,\n",
        "                         y=data['Close'],\n",
        "                         name='Close Price'))\n",
        "figure.add_trace(go.Scatter(x=data.index,\n",
        "                         y=data['momentum'],\n",
        "                         name='Momentum',\n",
        "                         yaxis='y2'))"
      ],
      "metadata": {
        "execution": {
          "iopub.status.busy": "2024-07-19T14:33:38.139018Z",
          "iopub.execute_input": "2024-07-19T14:33:38.139434Z",
          "iopub.status.idle": "2024-07-19T14:33:38.197433Z",
          "shell.execute_reply.started": "2024-07-19T14:33:38.139393Z",
          "shell.execute_reply": "2024-07-19T14:33:38.196212Z"
        },
        "trusted": true,
        "id": "KCRgTugqFT9_",
        "outputId": "4c6633b0-04da-4abf-a34c-de9b4b8ee5b3",
        "colab": {
          "base_uri": "https://localhost:8080/",
          "height": 542
        }
      },
      "execution_count": 5,
      "outputs": [
        {
          "output_type": "display_data",
          "data": {
            "text/html": [
              "<html>\n",
              "<head><meta charset=\"utf-8\" /></head>\n",
              "<body>\n",
              "    <div>            <script src=\"https://cdnjs.cloudflare.com/ajax/libs/mathjax/2.7.5/MathJax.js?config=TeX-AMS-MML_SVG\"></script><script type=\"text/javascript\">if (window.MathJax && window.MathJax.Hub && window.MathJax.Hub.Config) {window.MathJax.Hub.Config({SVG: {font: \"STIX-Web\"}});}</script>                <script type=\"text/javascript\">window.PlotlyConfig = {MathJaxConfig: 'local'};</script>\n",
              "        <script charset=\"utf-8\" src=\"https://cdn.plot.ly/plotly-2.35.2.min.js\"></script>                <div id=\"5110b649-15ab-4864-ae91-6e82360558cf\" class=\"plotly-graph-div\" style=\"height:525px; width:100%;\"></div>            <script type=\"text/javascript\">                                    window.PLOTLYENV=window.PLOTLYENV || {};                                    if (document.getElementById(\"5110b649-15ab-4864-ae91-6e82360558cf\")) {                    Plotly.newPlot(                        \"5110b649-15ab-4864-ae91-6e82360558cf\",                        [{\"name\":\"Close Price\",\"x\":[\"2024-04-29T00:00:00-04:00\",\"2024-04-30T00:00:00-04:00\",\"2024-05-01T00:00:00-04:00\",\"2024-05-02T00:00:00-04:00\",\"2024-05-03T00:00:00-04:00\",\"2024-05-06T00:00:00-04:00\",\"2024-05-07T00:00:00-04:00\",\"2024-05-08T00:00:00-04:00\",\"2024-05-09T00:00:00-04:00\",\"2024-05-10T00:00:00-04:00\",\"2024-05-13T00:00:00-04:00\",\"2024-05-14T00:00:00-04:00\",\"2024-05-15T00:00:00-04:00\",\"2024-05-16T00:00:00-04:00\",\"2024-05-17T00:00:00-04:00\",\"2024-05-20T00:00:00-04:00\",\"2024-05-21T00:00:00-04:00\",\"2024-05-22T00:00:00-04:00\",\"2024-05-23T00:00:00-04:00\",\"2024-05-24T00:00:00-04:00\",\"2024-05-28T00:00:00-04:00\",\"2024-05-29T00:00:00-04:00\",\"2024-05-30T00:00:00-04:00\",\"2024-05-31T00:00:00-04:00\",\"2024-06-03T00:00:00-04:00\",\"2024-06-04T00:00:00-04:00\",\"2024-06-05T00:00:00-04:00\",\"2024-06-06T00:00:00-04:00\",\"2024-06-07T00:00:00-04:00\",\"2024-06-10T00:00:00-04:00\",\"2024-06-11T00:00:00-04:00\",\"2024-06-12T00:00:00-04:00\",\"2024-06-13T00:00:00-04:00\",\"2024-06-14T00:00:00-04:00\",\"2024-06-17T00:00:00-04:00\",\"2024-06-18T00:00:00-04:00\",\"2024-06-20T00:00:00-04:00\",\"2024-06-21T00:00:00-04:00\",\"2024-06-24T00:00:00-04:00\",\"2024-06-25T00:00:00-04:00\",\"2024-06-26T00:00:00-04:00\",\"2024-06-27T00:00:00-04:00\",\"2024-06-28T00:00:00-04:00\",\"2024-07-01T00:00:00-04:00\",\"2024-07-02T00:00:00-04:00\",\"2024-07-03T00:00:00-04:00\",\"2024-07-05T00:00:00-04:00\",\"2024-07-08T00:00:00-04:00\",\"2024-07-09T00:00:00-04:00\",\"2024-07-10T00:00:00-04:00\",\"2024-07-11T00:00:00-04:00\",\"2024-07-12T00:00:00-04:00\",\"2024-07-15T00:00:00-04:00\",\"2024-07-16T00:00:00-04:00\",\"2024-07-17T00:00:00-04:00\",\"2024-07-18T00:00:00-04:00\",\"2024-07-19T00:00:00-04:00\",\"2024-07-22T00:00:00-04:00\",\"2024-07-23T00:00:00-04:00\",\"2024-07-24T00:00:00-04:00\",\"2024-07-25T00:00:00-04:00\",\"2024-07-26T00:00:00-04:00\",\"2024-07-29T00:00:00-04:00\",\"2024-07-30T00:00:00-04:00\",\"2024-07-31T00:00:00-04:00\",\"2024-08-01T00:00:00-04:00\",\"2024-08-02T00:00:00-04:00\",\"2024-08-05T00:00:00-04:00\",\"2024-08-06T00:00:00-04:00\",\"2024-08-07T00:00:00-04:00\",\"2024-08-08T00:00:00-04:00\",\"2024-08-09T00:00:00-04:00\",\"2024-08-12T00:00:00-04:00\",\"2024-08-13T00:00:00-04:00\",\"2024-08-14T00:00:00-04:00\",\"2024-08-15T00:00:00-04:00\",\"2024-08-16T00:00:00-04:00\",\"2024-08-19T00:00:00-04:00\",\"2024-08-20T00:00:00-04:00\",\"2024-08-21T00:00:00-04:00\",\"2024-08-22T00:00:00-04:00\",\"2024-08-23T00:00:00-04:00\",\"2024-08-26T00:00:00-04:00\",\"2024-08-27T00:00:00-04:00\",\"2024-08-28T00:00:00-04:00\",\"2024-08-29T00:00:00-04:00\",\"2024-08-30T00:00:00-04:00\",\"2024-09-03T00:00:00-04:00\",\"2024-09-04T00:00:00-04:00\",\"2024-09-05T00:00:00-04:00\",\"2024-09-06T00:00:00-04:00\",\"2024-09-09T00:00:00-04:00\",\"2024-09-10T00:00:00-04:00\",\"2024-09-11T00:00:00-04:00\",\"2024-09-12T00:00:00-04:00\",\"2024-09-13T00:00:00-04:00\",\"2024-09-16T00:00:00-04:00\",\"2024-09-17T00:00:00-04:00\",\"2024-09-18T00:00:00-04:00\",\"2024-09-19T00:00:00-04:00\",\"2024-09-20T00:00:00-04:00\",\"2024-09-23T00:00:00-04:00\",\"2024-09-24T00:00:00-04:00\",\"2024-09-25T00:00:00-04:00\",\"2024-09-26T00:00:00-04:00\",\"2024-09-27T00:00:00-04:00\",\"2024-09-30T00:00:00-04:00\",\"2024-10-01T00:00:00-04:00\",\"2024-10-02T00:00:00-04:00\",\"2024-10-03T00:00:00-04:00\",\"2024-10-04T00:00:00-04:00\",\"2024-10-07T00:00:00-04:00\",\"2024-10-08T00:00:00-04:00\",\"2024-10-09T00:00:00-04:00\",\"2024-10-10T00:00:00-04:00\",\"2024-10-11T00:00:00-04:00\",\"2024-10-14T00:00:00-04:00\",\"2024-10-15T00:00:00-04:00\",\"2024-10-16T00:00:00-04:00\",\"2024-10-17T00:00:00-04:00\",\"2024-10-18T00:00:00-04:00\",\"2024-10-21T00:00:00-04:00\",\"2024-10-22T00:00:00-04:00\",\"2024-10-23T00:00:00-04:00\",\"2024-10-24T00:00:00-04:00\",\"2024-10-25T00:00:00-04:00\",\"2024-10-28T00:00:00-04:00\",\"2024-10-29T00:00:00-04:00\",\"2024-10-30T00:00:00-04:00\",\"2024-10-31T00:00:00-04:00\",\"2024-11-01T00:00:00-04:00\",\"2024-11-04T00:00:00-05:00\",\"2024-11-05T00:00:00-05:00\",\"2024-11-06T00:00:00-05:00\",\"2024-11-07T00:00:00-05:00\",\"2024-11-08T00:00:00-05:00\",\"2024-11-11T00:00:00-05:00\",\"2024-11-12T00:00:00-05:00\",\"2024-11-13T00:00:00-05:00\",\"2024-11-14T00:00:00-05:00\",\"2024-11-15T00:00:00-05:00\",\"2024-11-18T00:00:00-05:00\",\"2024-11-19T00:00:00-05:00\",\"2024-11-20T00:00:00-05:00\",\"2024-11-21T00:00:00-05:00\",\"2024-11-22T00:00:00-05:00\",\"2024-11-25T00:00:00-05:00\",\"2024-11-26T00:00:00-05:00\",\"2024-11-27T00:00:00-05:00\",\"2024-11-29T00:00:00-05:00\",\"2024-12-02T00:00:00-05:00\",\"2024-12-03T00:00:00-05:00\",\"2024-12-04T00:00:00-05:00\",\"2024-12-05T00:00:00-05:00\",\"2024-12-06T00:00:00-05:00\",\"2024-12-09T00:00:00-05:00\",\"2024-12-10T00:00:00-05:00\",\"2024-12-11T00:00:00-05:00\",\"2024-12-12T00:00:00-05:00\",\"2024-12-13T00:00:00-05:00\",\"2024-12-16T00:00:00-05:00\",\"2024-12-17T00:00:00-05:00\",\"2024-12-18T00:00:00-05:00\",\"2024-12-19T00:00:00-05:00\",\"2024-12-20T00:00:00-05:00\",\"2024-12-23T00:00:00-05:00\",\"2024-12-24T00:00:00-05:00\",\"2024-12-26T00:00:00-05:00\",\"2024-12-27T00:00:00-05:00\",\"2024-12-30T00:00:00-05:00\",\"2024-12-31T00:00:00-05:00\",\"2025-01-02T00:00:00-05:00\",\"2025-01-03T00:00:00-05:00\",\"2025-01-06T00:00:00-05:00\",\"2025-01-07T00:00:00-05:00\",\"2025-01-08T00:00:00-05:00\",\"2025-01-10T00:00:00-05:00\",\"2025-01-13T00:00:00-05:00\",\"2025-01-14T00:00:00-05:00\",\"2025-01-15T00:00:00-05:00\",\"2025-01-16T00:00:00-05:00\",\"2025-01-17T00:00:00-05:00\",\"2025-01-21T00:00:00-05:00\",\"2025-01-22T00:00:00-05:00\",\"2025-01-23T00:00:00-05:00\",\"2025-01-24T00:00:00-05:00\",\"2025-01-27T00:00:00-05:00\",\"2025-01-28T00:00:00-05:00\",\"2025-01-29T00:00:00-05:00\",\"2025-01-30T00:00:00-05:00\",\"2025-01-31T00:00:00-05:00\",\"2025-02-03T00:00:00-05:00\",\"2025-02-04T00:00:00-05:00\",\"2025-02-05T00:00:00-05:00\",\"2025-02-06T00:00:00-05:00\",\"2025-02-07T00:00:00-05:00\",\"2025-02-10T00:00:00-05:00\",\"2025-02-11T00:00:00-05:00\",\"2025-02-12T00:00:00-05:00\",\"2025-02-13T00:00:00-05:00\",\"2025-02-14T00:00:00-05:00\",\"2025-02-18T00:00:00-05:00\",\"2025-02-19T00:00:00-05:00\",\"2025-02-20T00:00:00-05:00\",\"2025-02-21T00:00:00-05:00\",\"2025-02-24T00:00:00-05:00\",\"2025-02-25T00:00:00-05:00\",\"2025-02-26T00:00:00-05:00\",\"2025-02-27T00:00:00-05:00\",\"2025-02-28T00:00:00-05:00\",\"2025-03-03T00:00:00-05:00\",\"2025-03-04T00:00:00-05:00\",\"2025-03-05T00:00:00-05:00\",\"2025-03-06T00:00:00-05:00\",\"2025-03-07T00:00:00-05:00\",\"2025-03-10T00:00:00-04:00\",\"2025-03-11T00:00:00-04:00\",\"2025-03-12T00:00:00-04:00\",\"2025-03-13T00:00:00-04:00\",\"2025-03-14T00:00:00-04:00\",\"2025-03-17T00:00:00-04:00\",\"2025-03-18T00:00:00-04:00\",\"2025-03-19T00:00:00-04:00\",\"2025-03-20T00:00:00-04:00\",\"2025-03-21T00:00:00-04:00\",\"2025-03-24T00:00:00-04:00\",\"2025-03-25T00:00:00-04:00\",\"2025-03-26T00:00:00-04:00\",\"2025-03-27T00:00:00-04:00\",\"2025-03-28T00:00:00-04:00\",\"2025-03-31T00:00:00-04:00\",\"2025-04-01T00:00:00-04:00\",\"2025-04-02T00:00:00-04:00\",\"2025-04-03T00:00:00-04:00\",\"2025-04-04T00:00:00-04:00\",\"2025-04-07T00:00:00-04:00\",\"2025-04-08T00:00:00-04:00\",\"2025-04-09T00:00:00-04:00\",\"2025-04-10T00:00:00-04:00\",\"2025-04-11T00:00:00-04:00\",\"2025-04-14T00:00:00-04:00\",\"2025-04-15T00:00:00-04:00\",\"2025-04-16T00:00:00-04:00\",\"2025-04-17T00:00:00-04:00\",\"2025-04-21T00:00:00-04:00\",\"2025-04-22T00:00:00-04:00\",\"2025-04-23T00:00:00-04:00\",\"2025-04-24T00:00:00-04:00\",\"2025-04-25T00:00:00-04:00\",\"2025-04-28T00:00:00-04:00\"],\"y\":[172.68460083007812,169.5294952392578,168.5043487548828,172.21682739257812,182.5181884765625,180.8560333251953,181.54278564453125,181.88119506835938,183.7025909423828,182.43682861328125,185.65602111816406,186.8021697998047,189.08450317382812,189.2041015625,189.2340087890625,190.40008544921875,191.70570373535156,190.26055908203125,186.25401306152344,189.3436279296875,189.35360717773438,189.652587890625,190.6492462158203,191.6060333251953,193.3800506591797,193.69898986816406,195.21389770507812,193.82855224609375,196.23048400878906,192.4730987548828,206.45611572265625,212.35630798339844,213.52236938476562,211.77822875976562,215.94422912597656,213.5721893310547,208.97764587402344,206.79498291015625,207.4427947998047,208.36968994140625,212.5356903076172,213.3828582763672,209.9144744873047,216.02395629882812,219.53216552734375,220.80789184570312,225.5818328857422,227.056884765625,227.9139862060547,232.1995849609375,226.80772399902344,229.76776123046875,233.61483764648438,234.033447265625,228.1133270263672,223.42906188964844,223.55862426757812,223.20980834960938,224.25628662109375,217.80795288085938,216.76148986816406,217.2299041748047,217.50897216796875,218.0670928955078,221.3361053466797,217.62857055664062,219.12353515625,208.5690155029297,206.5358428955078,209.1171875,212.59547424316406,215.51568603515625,217.0522918701172,220.78407287597656,221.23309326171875,224.22650146484375,225.5535888671875,225.39393615722656,226.0125732421875,225.90280151367188,224.03692626953125,226.3418426513672,226.68109130859375,227.5292205810547,225.99261474609375,229.28536987304688,228.49710083007812,222.28077697753906,220.36500549316406,221.89163208007812,220.3350830078125,220.42486572265625,219.6266326904297,222.1710205078125,222.28077697753906,222.01138305664062,215.84495544433594,216.31390380859375,220.20535278320312,228.3673858642578,227.6988525390625,225.97265625,226.8706817626953,225.8728790283203,227.02035522460938,227.2897491455078,232.4883270263672,225.71324157714844,226.281982421875,225.17440795898438,226.30194091796875,221.20315551757812,225.27420043945312,229.03591918945312,228.53701782226562,227.05029296875,230.79205322265625,233.33645629882812,231.27099609375,231.6401824951172,234.48391723632812,235.96067810058594,235.342041015625,230.25323486328125,230.0636749267578,230.9018096923828,232.88743591308594,233.15684509277344,229.5946807861328,225.4138946533203,222.42047119140625,221.52244567871094,222.95928955078125,222.23089599609375,226.98043823242188,226.7107391357422,223.98373413085938,223.98373413085938,224.8727569580078,227.9693603515625,224.7528839111328,227.7695770263672,228.02928161621094,228.7484893798828,228.26902770996094,229.61753845214844,232.61424255371094,234.8018341064453,234.67198181152344,237.06935119628906,239.3268585205078,242.3834991455078,242.74310302734375,242.7730712890625,242.5732879638672,246.47900390625,247.4978790283203,246.2192840576172,247.68768310546875,247.85748291015625,250.7642822265625,253.20159912109375,247.77757263183594,249.51565551757812,254.21051025390625,254.98965454101562,257.91644287109375,258.7355041503906,255.30929565429688,251.9230194091797,250.1449737548828,243.5821990966797,243.0927276611328,244.73092651367188,241.94400024414062,242.43344116210938,236.58987426757812,234.14256286621094,233.02378845214844,237.60874938964844,228.00930786132812,229.7274169921875,222.39547729492188,223.58416748046875,223.41436767578125,222.5353240966797,229.6075439453125,237.99832153320312,239.0971221923828,237.3290557861328,235.74081420898438,227.75958251953125,232.54432678222656,232.21469116210938,232.9638671875,227.3800048828125,227.64999389648438,232.6199951171875,236.8699951171875,241.52999877929688,244.60000610351562,244.47000122070312,244.8699951171875,245.8300018310547,245.5500030517578,247.10000610351562,247.0399932861328,240.36000061035156,237.3000030517578,241.83999633789062,238.02999877929688,235.92999267578125,235.74000549316406,235.3300018310547,239.07000732421875,227.47999572753906,220.83999633789062,216.97999572753906,209.67999267578125,213.49000549316406,214.0,212.69000244140625,215.24000549316406,214.10000610351562,218.27000427246094,220.72999572753906,223.75,221.52999877929688,223.85000610351562,217.89999389648438,222.1300048828125,223.19000244140625,223.88999938964844,203.19000244140625,188.3800048828125,181.4600067138672,172.4199981689453,198.85000610351562,190.4199981689453,198.14999389648438,202.52000427246094,202.13999938964844,194.27000427246094,196.97999572753906,193.16000366210938,199.74000549316406,204.60000610351562,208.3699951171875,209.27999877929688,210.13999938964844],\"type\":\"scatter\"},{\"name\":\"Momentum\",\"x\":[\"2024-04-29T00:00:00-04:00\",\"2024-04-30T00:00:00-04:00\",\"2024-05-01T00:00:00-04:00\",\"2024-05-02T00:00:00-04:00\",\"2024-05-03T00:00:00-04:00\",\"2024-05-06T00:00:00-04:00\",\"2024-05-07T00:00:00-04:00\",\"2024-05-08T00:00:00-04:00\",\"2024-05-09T00:00:00-04:00\",\"2024-05-10T00:00:00-04:00\",\"2024-05-13T00:00:00-04:00\",\"2024-05-14T00:00:00-04:00\",\"2024-05-15T00:00:00-04:00\",\"2024-05-16T00:00:00-04:00\",\"2024-05-17T00:00:00-04:00\",\"2024-05-20T00:00:00-04:00\",\"2024-05-21T00:00:00-04:00\",\"2024-05-22T00:00:00-04:00\",\"2024-05-23T00:00:00-04:00\",\"2024-05-24T00:00:00-04:00\",\"2024-05-28T00:00:00-04:00\",\"2024-05-29T00:00:00-04:00\",\"2024-05-30T00:00:00-04:00\",\"2024-05-31T00:00:00-04:00\",\"2024-06-03T00:00:00-04:00\",\"2024-06-04T00:00:00-04:00\",\"2024-06-05T00:00:00-04:00\",\"2024-06-06T00:00:00-04:00\",\"2024-06-07T00:00:00-04:00\",\"2024-06-10T00:00:00-04:00\",\"2024-06-11T00:00:00-04:00\",\"2024-06-12T00:00:00-04:00\",\"2024-06-13T00:00:00-04:00\",\"2024-06-14T00:00:00-04:00\",\"2024-06-17T00:00:00-04:00\",\"2024-06-18T00:00:00-04:00\",\"2024-06-20T00:00:00-04:00\",\"2024-06-21T00:00:00-04:00\",\"2024-06-24T00:00:00-04:00\",\"2024-06-25T00:00:00-04:00\",\"2024-06-26T00:00:00-04:00\",\"2024-06-27T00:00:00-04:00\",\"2024-06-28T00:00:00-04:00\",\"2024-07-01T00:00:00-04:00\",\"2024-07-02T00:00:00-04:00\",\"2024-07-03T00:00:00-04:00\",\"2024-07-05T00:00:00-04:00\",\"2024-07-08T00:00:00-04:00\",\"2024-07-09T00:00:00-04:00\",\"2024-07-10T00:00:00-04:00\",\"2024-07-11T00:00:00-04:00\",\"2024-07-12T00:00:00-04:00\",\"2024-07-15T00:00:00-04:00\",\"2024-07-16T00:00:00-04:00\",\"2024-07-17T00:00:00-04:00\",\"2024-07-18T00:00:00-04:00\",\"2024-07-19T00:00:00-04:00\",\"2024-07-22T00:00:00-04:00\",\"2024-07-23T00:00:00-04:00\",\"2024-07-24T00:00:00-04:00\",\"2024-07-25T00:00:00-04:00\",\"2024-07-26T00:00:00-04:00\",\"2024-07-29T00:00:00-04:00\",\"2024-07-30T00:00:00-04:00\",\"2024-07-31T00:00:00-04:00\",\"2024-08-01T00:00:00-04:00\",\"2024-08-02T00:00:00-04:00\",\"2024-08-05T00:00:00-04:00\",\"2024-08-06T00:00:00-04:00\",\"2024-08-07T00:00:00-04:00\",\"2024-08-08T00:00:00-04:00\",\"2024-08-09T00:00:00-04:00\",\"2024-08-12T00:00:00-04:00\",\"2024-08-13T00:00:00-04:00\",\"2024-08-14T00:00:00-04:00\",\"2024-08-15T00:00:00-04:00\",\"2024-08-16T00:00:00-04:00\",\"2024-08-19T00:00:00-04:00\",\"2024-08-20T00:00:00-04:00\",\"2024-08-21T00:00:00-04:00\",\"2024-08-22T00:00:00-04:00\",\"2024-08-23T00:00:00-04:00\",\"2024-08-26T00:00:00-04:00\",\"2024-08-27T00:00:00-04:00\",\"2024-08-28T00:00:00-04:00\",\"2024-08-29T00:00:00-04:00\",\"2024-08-30T00:00:00-04:00\",\"2024-09-03T00:00:00-04:00\",\"2024-09-04T00:00:00-04:00\",\"2024-09-05T00:00:00-04:00\",\"2024-09-06T00:00:00-04:00\",\"2024-09-09T00:00:00-04:00\",\"2024-09-10T00:00:00-04:00\",\"2024-09-11T00:00:00-04:00\",\"2024-09-12T00:00:00-04:00\",\"2024-09-13T00:00:00-04:00\",\"2024-09-16T00:00:00-04:00\",\"2024-09-17T00:00:00-04:00\",\"2024-09-18T00:00:00-04:00\",\"2024-09-19T00:00:00-04:00\",\"2024-09-20T00:00:00-04:00\",\"2024-09-23T00:00:00-04:00\",\"2024-09-24T00:00:00-04:00\",\"2024-09-25T00:00:00-04:00\",\"2024-09-26T00:00:00-04:00\",\"2024-09-27T00:00:00-04:00\",\"2024-09-30T00:00:00-04:00\",\"2024-10-01T00:00:00-04:00\",\"2024-10-02T00:00:00-04:00\",\"2024-10-03T00:00:00-04:00\",\"2024-10-04T00:00:00-04:00\",\"2024-10-07T00:00:00-04:00\",\"2024-10-08T00:00:00-04:00\",\"2024-10-09T00:00:00-04:00\",\"2024-10-10T00:00:00-04:00\",\"2024-10-11T00:00:00-04:00\",\"2024-10-14T00:00:00-04:00\",\"2024-10-15T00:00:00-04:00\",\"2024-10-16T00:00:00-04:00\",\"2024-10-17T00:00:00-04:00\",\"2024-10-18T00:00:00-04:00\",\"2024-10-21T00:00:00-04:00\",\"2024-10-22T00:00:00-04:00\",\"2024-10-23T00:00:00-04:00\",\"2024-10-24T00:00:00-04:00\",\"2024-10-25T00:00:00-04:00\",\"2024-10-28T00:00:00-04:00\",\"2024-10-29T00:00:00-04:00\",\"2024-10-30T00:00:00-04:00\",\"2024-10-31T00:00:00-04:00\",\"2024-11-01T00:00:00-04:00\",\"2024-11-04T00:00:00-05:00\",\"2024-11-05T00:00:00-05:00\",\"2024-11-06T00:00:00-05:00\",\"2024-11-07T00:00:00-05:00\",\"2024-11-08T00:00:00-05:00\",\"2024-11-11T00:00:00-05:00\",\"2024-11-12T00:00:00-05:00\",\"2024-11-13T00:00:00-05:00\",\"2024-11-14T00:00:00-05:00\",\"2024-11-15T00:00:00-05:00\",\"2024-11-18T00:00:00-05:00\",\"2024-11-19T00:00:00-05:00\",\"2024-11-20T00:00:00-05:00\",\"2024-11-21T00:00:00-05:00\",\"2024-11-22T00:00:00-05:00\",\"2024-11-25T00:00:00-05:00\",\"2024-11-26T00:00:00-05:00\",\"2024-11-27T00:00:00-05:00\",\"2024-11-29T00:00:00-05:00\",\"2024-12-02T00:00:00-05:00\",\"2024-12-03T00:00:00-05:00\",\"2024-12-04T00:00:00-05:00\",\"2024-12-05T00:00:00-05:00\",\"2024-12-06T00:00:00-05:00\",\"2024-12-09T00:00:00-05:00\",\"2024-12-10T00:00:00-05:00\",\"2024-12-11T00:00:00-05:00\",\"2024-12-12T00:00:00-05:00\",\"2024-12-13T00:00:00-05:00\",\"2024-12-16T00:00:00-05:00\",\"2024-12-17T00:00:00-05:00\",\"2024-12-18T00:00:00-05:00\",\"2024-12-19T00:00:00-05:00\",\"2024-12-20T00:00:00-05:00\",\"2024-12-23T00:00:00-05:00\",\"2024-12-24T00:00:00-05:00\",\"2024-12-26T00:00:00-05:00\",\"2024-12-27T00:00:00-05:00\",\"2024-12-30T00:00:00-05:00\",\"2024-12-31T00:00:00-05:00\",\"2025-01-02T00:00:00-05:00\",\"2025-01-03T00:00:00-05:00\",\"2025-01-06T00:00:00-05:00\",\"2025-01-07T00:00:00-05:00\",\"2025-01-08T00:00:00-05:00\",\"2025-01-10T00:00:00-05:00\",\"2025-01-13T00:00:00-05:00\",\"2025-01-14T00:00:00-05:00\",\"2025-01-15T00:00:00-05:00\",\"2025-01-16T00:00:00-05:00\",\"2025-01-17T00:00:00-05:00\",\"2025-01-21T00:00:00-05:00\",\"2025-01-22T00:00:00-05:00\",\"2025-01-23T00:00:00-05:00\",\"2025-01-24T00:00:00-05:00\",\"2025-01-27T00:00:00-05:00\",\"2025-01-28T00:00:00-05:00\",\"2025-01-29T00:00:00-05:00\",\"2025-01-30T00:00:00-05:00\",\"2025-01-31T00:00:00-05:00\",\"2025-02-03T00:00:00-05:00\",\"2025-02-04T00:00:00-05:00\",\"2025-02-05T00:00:00-05:00\",\"2025-02-06T00:00:00-05:00\",\"2025-02-07T00:00:00-05:00\",\"2025-02-10T00:00:00-05:00\",\"2025-02-11T00:00:00-05:00\",\"2025-02-12T00:00:00-05:00\",\"2025-02-13T00:00:00-05:00\",\"2025-02-14T00:00:00-05:00\",\"2025-02-18T00:00:00-05:00\",\"2025-02-19T00:00:00-05:00\",\"2025-02-20T00:00:00-05:00\",\"2025-02-21T00:00:00-05:00\",\"2025-02-24T00:00:00-05:00\",\"2025-02-25T00:00:00-05:00\",\"2025-02-26T00:00:00-05:00\",\"2025-02-27T00:00:00-05:00\",\"2025-02-28T00:00:00-05:00\",\"2025-03-03T00:00:00-05:00\",\"2025-03-04T00:00:00-05:00\",\"2025-03-05T00:00:00-05:00\",\"2025-03-06T00:00:00-05:00\",\"2025-03-07T00:00:00-05:00\",\"2025-03-10T00:00:00-04:00\",\"2025-03-11T00:00:00-04:00\",\"2025-03-12T00:00:00-04:00\",\"2025-03-13T00:00:00-04:00\",\"2025-03-14T00:00:00-04:00\",\"2025-03-17T00:00:00-04:00\",\"2025-03-18T00:00:00-04:00\",\"2025-03-19T00:00:00-04:00\",\"2025-03-20T00:00:00-04:00\",\"2025-03-21T00:00:00-04:00\",\"2025-03-24T00:00:00-04:00\",\"2025-03-25T00:00:00-04:00\",\"2025-03-26T00:00:00-04:00\",\"2025-03-27T00:00:00-04:00\",\"2025-03-28T00:00:00-04:00\",\"2025-03-31T00:00:00-04:00\",\"2025-04-01T00:00:00-04:00\",\"2025-04-02T00:00:00-04:00\",\"2025-04-03T00:00:00-04:00\",\"2025-04-04T00:00:00-04:00\",\"2025-04-07T00:00:00-04:00\",\"2025-04-08T00:00:00-04:00\",\"2025-04-09T00:00:00-04:00\",\"2025-04-10T00:00:00-04:00\",\"2025-04-11T00:00:00-04:00\",\"2025-04-14T00:00:00-04:00\",\"2025-04-15T00:00:00-04:00\",\"2025-04-16T00:00:00-04:00\",\"2025-04-17T00:00:00-04:00\",\"2025-04-21T00:00:00-04:00\",\"2025-04-22T00:00:00-04:00\",\"2025-04-23T00:00:00-04:00\",\"2025-04-24T00:00:00-04:00\",\"2025-04-25T00:00:00-04:00\",\"2025-04-28T00:00:00-04:00\"],\"y\":[null,-0.018270914578682906,-0.006047009595163355,0.0220319455558724,0.05981622841362544,-0.009106791850394869,0.0037972320121668623,0.0018640753066925253,0.010014206654727964,-0.0068902802220059955,0.017645518886467038,0.006173506653528671,0.012217916828639597,0.0006325129064750357,0.00015806859531863893,0.006162088239942465,0.0068572358203118355,-0.007538349799520394,-0.02105820586168039,0.01658817878540697,0.0000527044303311186,0.0015789544088800067,0.005255179147727107,0.0050185727369300714,0.009258671573110222,0.0016492870277837746,0.0078209382400245,-0.007096551399620621,0.012392043044544332,-0.019147816267619078,0.0726492016714555,0.028578432952154564,0.005491060813970883,-0.008168421088738831,0.019671523322337015,-0.010984501899043986,-0.021512835877284253,-0.01044448057943459,0.0031326286572914697,0.00446819636467044,0.01999331269045146,0.003986003327365095,-0.016254275610885105,0.02910462380664902,0.01623990824268895,0.005811113443421556,0.021620337027514536,0.00653887709401646,0.0037748313217387253,0.018803579482867816,-0.023220803615222385,0.013050866078344159,0.016743325501425765,0.0017918794172400165,-0.025296043400747537,-0.020534815732959344,0.0005798814927382434,-0.0015602883543927026,0.004688316697289974,-0.0287543053414131,-0.004804521592780109,0.0021609664471557988,0.0012846665574159921,0.002565966460951641,0.01499085628998742,-0.0167507004075631,0.006869339792039408,-0.04816698327632507,-0.009748200625674053,0.012498288763360899,0.016633193974857186,0.013736001682952415,0.007129902529277032,0.017193004384825628,0.002033753521679227,0.013530562534709967,0.005918512725632485,-0.0007078260681320225,0.0027446926723415643,-0.0004856885921916687,-0.008259637470798276,0.010288109287229563,0.0014988331510099595,0.0037415086876670944,-0.006753443935846204,0.014570189077428797,-0.0034379386849026083,-0.02720526356770636,-0.008618700683094116,0.006927717871980432,-0.007014906590546377,0.00040748261065881586,-0.0036213384075775013,0.0115850604556198,0.0004940179393140287,-0.0012119532987130421,-0.027775276778179814,0.0021726167437754462,0.017989823613246525,0.037065552575783034,-0.0029274465907872527,-0.0075810495740920025,0.003974045035350704,-0.004398112292970047,0.005080185816134231,0.0011866509530913394,0.022872029646754166,-0.02914161556356487,0.0025197495758446653,-0.004894664838253404,0.005007376145470976,-0.02253089558007315,0.018404099671857965,0.016698400183695394,-0.0021782669240401065,-0.006505400602854872,0.01647987415026697,0.011024656354684748,-0.008851853833045875,0.001596336797968112,0.012276517444337998,0.006297919625632309,-0.0026217804167235625,-0.021623022093217426,-0.0008232672024607313,0.0036430556274988923,0.008599439836995959,0.0011568214430770496,-0.015277974383395176,-0.018209420699545342,-0.013279675889180886,-0.004037512859697667,0.006486222502952499,-0.003266935215639921,0.021372105867816016,-0.0011882041412023536,-0.012028565630717747,0.0,0.003969140127956905,0.013770469288696185,-0.014109248872170355,0.013422266547766126,0.0011402075432298542,0.003154014951826989,-0.0020960211419173147,0.005907550208260837,0.013050850217118715,0.00940437493731383,-0.00055302930411949,0.010215831332992531,0.009522560857517126,0.012771824457546543,0.0014836153579087519,0.0001234566969978701,-0.0008229220981327279,0.016101179050533432,0.004133719732402952,-0.005166084556857187,0.005963785710253022,0.0006855399612875068,0.011727704494844282,0.009719553649706558,-0.021421770273511442,0.007014690099998555,0.018815872401230394,0.0030649570166518814,0.011478066964506484,0.0031756846138972783,-0.01324212735064867,-0.01326342715583062,-0.007057892758140283,-0.026235884574015045,-0.002009471288797249,0.006738987497901139,-0.011387715926354569,0.0020229512510121506,-0.024103798826267564,-0.010344108804078989,-0.004778176169113579,0.01967593509639265,-0.04040020223572849,0.007535258744368001,-0.03191582351493971,0.005344938665144516,-0.0007594446717803516,-0.003934588398438299,0.03178021232063055,0.03654399783087747,0.0046168420520831255,-0.0073947623879278,-0.006692149732309471,-0.03385596048030004,0.021007872466946687,-0.0014175173597156254,0.003226221483410008,-0.023968791264069034,0.0011873911860060815,0.021831765227118938,0.018270140526221557,0.01967325435120615,0.012710666748373622,-0.0005314999164697243,0.001636167605379324,0.003920475080696484,-0.001138993520771736,0.00631237235794746,-0.0002428685386501872,-0.027040126527384523,-0.012730893454915293,0.019131872009047424,-0.01575420780800274,-0.00882244302938795,-0.0008052693108767661,-0.0017392197020257294,0.015892599600832114,-0.04847957184759566,-0.029189377151217277,-0.017478720677234882,-0.03364366852013578,0.01817060735629683,0.00238884488132296,-0.006121483918662407,0.011989294383784266,-0.0052964103352275416,0.019476870855058115,0.011270405492856295,0.013681893403326706,-0.009921793165153625,0.010472655337889991,-0.026580353115021937,0.019412625538381745,0.0047719692760685994,0.003136327526256366,-0.09245610346452682,-0.07288743235713335,-0.036734249865053914,-0.049818186985832624,0.15328852926139658,-0.04239380274487847,0.0405944533235465,0.022054052538903912,-0.0018763819612667154,-0.038933388448355366,0.013949613401343264,-0.019392791899099593,0.03406503264808869,0.024331633507028716,0.018426143212158408,0.0043672490446504675,0.0041093301575299],\"yaxis\":\"y2\",\"type\":\"scatter\"}],                        {\"template\":{\"data\":{\"histogram2dcontour\":[{\"type\":\"histogram2dcontour\",\"colorbar\":{\"outlinewidth\":0,\"ticks\":\"\"},\"colorscale\":[[0.0,\"#0d0887\"],[0.1111111111111111,\"#46039f\"],[0.2222222222222222,\"#7201a8\"],[0.3333333333333333,\"#9c179e\"],[0.4444444444444444,\"#bd3786\"],[0.5555555555555556,\"#d8576b\"],[0.6666666666666666,\"#ed7953\"],[0.7777777777777778,\"#fb9f3a\"],[0.8888888888888888,\"#fdca26\"],[1.0,\"#f0f921\"]]}],\"choropleth\":[{\"type\":\"choropleth\",\"colorbar\":{\"outlinewidth\":0,\"ticks\":\"\"}}],\"histogram2d\":[{\"type\":\"histogram2d\",\"colorbar\":{\"outlinewidth\":0,\"ticks\":\"\"},\"colorscale\":[[0.0,\"#0d0887\"],[0.1111111111111111,\"#46039f\"],[0.2222222222222222,\"#7201a8\"],[0.3333333333333333,\"#9c179e\"],[0.4444444444444444,\"#bd3786\"],[0.5555555555555556,\"#d8576b\"],[0.6666666666666666,\"#ed7953\"],[0.7777777777777778,\"#fb9f3a\"],[0.8888888888888888,\"#fdca26\"],[1.0,\"#f0f921\"]]}],\"heatmap\":[{\"type\":\"heatmap\",\"colorbar\":{\"outlinewidth\":0,\"ticks\":\"\"},\"colorscale\":[[0.0,\"#0d0887\"],[0.1111111111111111,\"#46039f\"],[0.2222222222222222,\"#7201a8\"],[0.3333333333333333,\"#9c179e\"],[0.4444444444444444,\"#bd3786\"],[0.5555555555555556,\"#d8576b\"],[0.6666666666666666,\"#ed7953\"],[0.7777777777777778,\"#fb9f3a\"],[0.8888888888888888,\"#fdca26\"],[1.0,\"#f0f921\"]]}],\"heatmapgl\":[{\"type\":\"heatmapgl\",\"colorbar\":{\"outlinewidth\":0,\"ticks\":\"\"},\"colorscale\":[[0.0,\"#0d0887\"],[0.1111111111111111,\"#46039f\"],[0.2222222222222222,\"#7201a8\"],[0.3333333333333333,\"#9c179e\"],[0.4444444444444444,\"#bd3786\"],[0.5555555555555556,\"#d8576b\"],[0.6666666666666666,\"#ed7953\"],[0.7777777777777778,\"#fb9f3a\"],[0.8888888888888888,\"#fdca26\"],[1.0,\"#f0f921\"]]}],\"contourcarpet\":[{\"type\":\"contourcarpet\",\"colorbar\":{\"outlinewidth\":0,\"ticks\":\"\"}}],\"contour\":[{\"type\":\"contour\",\"colorbar\":{\"outlinewidth\":0,\"ticks\":\"\"},\"colorscale\":[[0.0,\"#0d0887\"],[0.1111111111111111,\"#46039f\"],[0.2222222222222222,\"#7201a8\"],[0.3333333333333333,\"#9c179e\"],[0.4444444444444444,\"#bd3786\"],[0.5555555555555556,\"#d8576b\"],[0.6666666666666666,\"#ed7953\"],[0.7777777777777778,\"#fb9f3a\"],[0.8888888888888888,\"#fdca26\"],[1.0,\"#f0f921\"]]}],\"surface\":[{\"type\":\"surface\",\"colorbar\":{\"outlinewidth\":0,\"ticks\":\"\"},\"colorscale\":[[0.0,\"#0d0887\"],[0.1111111111111111,\"#46039f\"],[0.2222222222222222,\"#7201a8\"],[0.3333333333333333,\"#9c179e\"],[0.4444444444444444,\"#bd3786\"],[0.5555555555555556,\"#d8576b\"],[0.6666666666666666,\"#ed7953\"],[0.7777777777777778,\"#fb9f3a\"],[0.8888888888888888,\"#fdca26\"],[1.0,\"#f0f921\"]]}],\"mesh3d\":[{\"type\":\"mesh3d\",\"colorbar\":{\"outlinewidth\":0,\"ticks\":\"\"}}],\"scatter\":[{\"fillpattern\":{\"fillmode\":\"overlay\",\"size\":10,\"solidity\":0.2},\"type\":\"scatter\"}],\"parcoords\":[{\"type\":\"parcoords\",\"line\":{\"colorbar\":{\"outlinewidth\":0,\"ticks\":\"\"}}}],\"scatterpolargl\":[{\"type\":\"scatterpolargl\",\"marker\":{\"colorbar\":{\"outlinewidth\":0,\"ticks\":\"\"}}}],\"bar\":[{\"error_x\":{\"color\":\"#2a3f5f\"},\"error_y\":{\"color\":\"#2a3f5f\"},\"marker\":{\"line\":{\"color\":\"#E5ECF6\",\"width\":0.5},\"pattern\":{\"fillmode\":\"overlay\",\"size\":10,\"solidity\":0.2}},\"type\":\"bar\"}],\"scattergeo\":[{\"type\":\"scattergeo\",\"marker\":{\"colorbar\":{\"outlinewidth\":0,\"ticks\":\"\"}}}],\"scatterpolar\":[{\"type\":\"scatterpolar\",\"marker\":{\"colorbar\":{\"outlinewidth\":0,\"ticks\":\"\"}}}],\"histogram\":[{\"marker\":{\"pattern\":{\"fillmode\":\"overlay\",\"size\":10,\"solidity\":0.2}},\"type\":\"histogram\"}],\"scattergl\":[{\"type\":\"scattergl\",\"marker\":{\"colorbar\":{\"outlinewidth\":0,\"ticks\":\"\"}}}],\"scatter3d\":[{\"type\":\"scatter3d\",\"line\":{\"colorbar\":{\"outlinewidth\":0,\"ticks\":\"\"}},\"marker\":{\"colorbar\":{\"outlinewidth\":0,\"ticks\":\"\"}}}],\"scattermapbox\":[{\"type\":\"scattermapbox\",\"marker\":{\"colorbar\":{\"outlinewidth\":0,\"ticks\":\"\"}}}],\"scatterternary\":[{\"type\":\"scatterternary\",\"marker\":{\"colorbar\":{\"outlinewidth\":0,\"ticks\":\"\"}}}],\"scattercarpet\":[{\"type\":\"scattercarpet\",\"marker\":{\"colorbar\":{\"outlinewidth\":0,\"ticks\":\"\"}}}],\"carpet\":[{\"aaxis\":{\"endlinecolor\":\"#2a3f5f\",\"gridcolor\":\"white\",\"linecolor\":\"white\",\"minorgridcolor\":\"white\",\"startlinecolor\":\"#2a3f5f\"},\"baxis\":{\"endlinecolor\":\"#2a3f5f\",\"gridcolor\":\"white\",\"linecolor\":\"white\",\"minorgridcolor\":\"white\",\"startlinecolor\":\"#2a3f5f\"},\"type\":\"carpet\"}],\"table\":[{\"cells\":{\"fill\":{\"color\":\"#EBF0F8\"},\"line\":{\"color\":\"white\"}},\"header\":{\"fill\":{\"color\":\"#C8D4E3\"},\"line\":{\"color\":\"white\"}},\"type\":\"table\"}],\"barpolar\":[{\"marker\":{\"line\":{\"color\":\"#E5ECF6\",\"width\":0.5},\"pattern\":{\"fillmode\":\"overlay\",\"size\":10,\"solidity\":0.2}},\"type\":\"barpolar\"}],\"pie\":[{\"automargin\":true,\"type\":\"pie\"}]},\"layout\":{\"autotypenumbers\":\"strict\",\"colorway\":[\"#636efa\",\"#EF553B\",\"#00cc96\",\"#ab63fa\",\"#FFA15A\",\"#19d3f3\",\"#FF6692\",\"#B6E880\",\"#FF97FF\",\"#FECB52\"],\"font\":{\"color\":\"#2a3f5f\"},\"hovermode\":\"closest\",\"hoverlabel\":{\"align\":\"left\"},\"paper_bgcolor\":\"white\",\"plot_bgcolor\":\"#E5ECF6\",\"polar\":{\"bgcolor\":\"#E5ECF6\",\"angularaxis\":{\"gridcolor\":\"white\",\"linecolor\":\"white\",\"ticks\":\"\"},\"radialaxis\":{\"gridcolor\":\"white\",\"linecolor\":\"white\",\"ticks\":\"\"}},\"ternary\":{\"bgcolor\":\"#E5ECF6\",\"aaxis\":{\"gridcolor\":\"white\",\"linecolor\":\"white\",\"ticks\":\"\"},\"baxis\":{\"gridcolor\":\"white\",\"linecolor\":\"white\",\"ticks\":\"\"},\"caxis\":{\"gridcolor\":\"white\",\"linecolor\":\"white\",\"ticks\":\"\"}},\"coloraxis\":{\"colorbar\":{\"outlinewidth\":0,\"ticks\":\"\"}},\"colorscale\":{\"sequential\":[[0.0,\"#0d0887\"],[0.1111111111111111,\"#46039f\"],[0.2222222222222222,\"#7201a8\"],[0.3333333333333333,\"#9c179e\"],[0.4444444444444444,\"#bd3786\"],[0.5555555555555556,\"#d8576b\"],[0.6666666666666666,\"#ed7953\"],[0.7777777777777778,\"#fb9f3a\"],[0.8888888888888888,\"#fdca26\"],[1.0,\"#f0f921\"]],\"sequentialminus\":[[0.0,\"#0d0887\"],[0.1111111111111111,\"#46039f\"],[0.2222222222222222,\"#7201a8\"],[0.3333333333333333,\"#9c179e\"],[0.4444444444444444,\"#bd3786\"],[0.5555555555555556,\"#d8576b\"],[0.6666666666666666,\"#ed7953\"],[0.7777777777777778,\"#fb9f3a\"],[0.8888888888888888,\"#fdca26\"],[1.0,\"#f0f921\"]],\"diverging\":[[0,\"#8e0152\"],[0.1,\"#c51b7d\"],[0.2,\"#de77ae\"],[0.3,\"#f1b6da\"],[0.4,\"#fde0ef\"],[0.5,\"#f7f7f7\"],[0.6,\"#e6f5d0\"],[0.7,\"#b8e186\"],[0.8,\"#7fbc41\"],[0.9,\"#4d9221\"],[1,\"#276419\"]]},\"xaxis\":{\"gridcolor\":\"white\",\"linecolor\":\"white\",\"ticks\":\"\",\"title\":{\"standoff\":15},\"zerolinecolor\":\"white\",\"automargin\":true,\"zerolinewidth\":2},\"yaxis\":{\"gridcolor\":\"white\",\"linecolor\":\"white\",\"ticks\":\"\",\"title\":{\"standoff\":15},\"zerolinecolor\":\"white\",\"automargin\":true,\"zerolinewidth\":2},\"scene\":{\"xaxis\":{\"backgroundcolor\":\"#E5ECF6\",\"gridcolor\":\"white\",\"linecolor\":\"white\",\"showbackground\":true,\"ticks\":\"\",\"zerolinecolor\":\"white\",\"gridwidth\":2},\"yaxis\":{\"backgroundcolor\":\"#E5ECF6\",\"gridcolor\":\"white\",\"linecolor\":\"white\",\"showbackground\":true,\"ticks\":\"\",\"zerolinecolor\":\"white\",\"gridwidth\":2},\"zaxis\":{\"backgroundcolor\":\"#E5ECF6\",\"gridcolor\":\"white\",\"linecolor\":\"white\",\"showbackground\":true,\"ticks\":\"\",\"zerolinecolor\":\"white\",\"gridwidth\":2}},\"shapedefaults\":{\"line\":{\"color\":\"#2a3f5f\"}},\"annotationdefaults\":{\"arrowcolor\":\"#2a3f5f\",\"arrowhead\":0,\"arrowwidth\":1},\"geo\":{\"bgcolor\":\"white\",\"landcolor\":\"#E5ECF6\",\"subunitcolor\":\"white\",\"showland\":true,\"showlakes\":true,\"lakecolor\":\"white\"},\"title\":{\"x\":0.05},\"mapbox\":{\"style\":\"light\"}}},\"xaxis\":{\"anchor\":\"y\",\"domain\":[0.0,1.0]},\"yaxis\":{\"anchor\":\"x\",\"domain\":[0.575,1.0]},\"xaxis2\":{\"anchor\":\"y2\",\"domain\":[0.0,1.0]},\"yaxis2\":{\"anchor\":\"x2\",\"domain\":[0.0,0.425]}},                        {\"responsive\": true}                    ).then(function(){\n",
              "                            \n",
              "var gd = document.getElementById('5110b649-15ab-4864-ae91-6e82360558cf');\n",
              "var x = new MutationObserver(function (mutations, observer) {{\n",
              "        var display = window.getComputedStyle(gd).display;\n",
              "        if (!display || display === 'none') {{\n",
              "            console.log([gd, 'removed!']);\n",
              "            Plotly.purge(gd);\n",
              "            observer.disconnect();\n",
              "        }}\n",
              "}});\n",
              "\n",
              "// Listen for the removal of the full notebook cells\n",
              "var notebookContainer = gd.closest('#notebook-container');\n",
              "if (notebookContainer) {{\n",
              "    x.observe(notebookContainer, {childList: true});\n",
              "}}\n",
              "\n",
              "// Listen for the clearing of the current output cell\n",
              "var outputEl = gd.closest('.output');\n",
              "if (outputEl) {{\n",
              "    x.observe(outputEl, {childList: true});\n",
              "}}\n",
              "\n",
              "                        })                };                            </script>        </div>\n",
              "</body>\n",
              "</html>"
            ]
          },
          "metadata": {}
        }
      ]
    },
    {
      "cell_type": "markdown",
      "source": [
        "# Buy & Sell Signals"
      ],
      "metadata": {
        "id": "V1gfqwawFT9_"
      }
    },
    {
      "cell_type": "code",
      "source": [
        "# Adding the buy and sell signals\n",
        "figure.add_trace(go.Scatter(x=data.loc[data['momentum'] > 0].index,\n",
        "                         y=data.loc[data['momentum'] > 0]['Close'],\n",
        "                         mode='markers', name='Buy',\n",
        "                         marker=dict(color='green', symbol='triangle-up')))\n",
        "\n",
        "figure.add_trace(go.Scatter(x=data.loc[data['momentum'] < 0].index,\n",
        "                         y=data.loc[data['momentum'] < 0]['Close'],\n",
        "                         mode='markers', name='Sell',\n",
        "                         marker=dict(color='red', symbol='triangle-down')))\n",
        "\n",
        "figure.update_layout(title='Algorithmic Trading using Momentum Strategy',\n",
        "                  xaxis_title='Date',\n",
        "                  yaxis_title='Price')\n",
        "figure.update_yaxes(title=\"Momentum\", secondary_y=True)\n",
        "figure.show()"
      ],
      "metadata": {
        "execution": {
          "iopub.status.busy": "2024-07-19T14:33:38.198954Z",
          "iopub.execute_input": "2024-07-19T14:33:38.199419Z",
          "iopub.status.idle": "2024-07-19T14:33:38.246748Z",
          "shell.execute_reply.started": "2024-07-19T14:33:38.199377Z",
          "shell.execute_reply": "2024-07-19T14:33:38.24561Z"
        },
        "trusted": true,
        "id": "MErYzFOTFT9_",
        "outputId": "00be2ee8-f441-4175-9636-fd4cb4e91395",
        "colab": {
          "base_uri": "https://localhost:8080/",
          "height": 542
        }
      },
      "execution_count": 6,
      "outputs": [
        {
          "output_type": "display_data",
          "data": {
            "text/html": [
              "<html>\n",
              "<head><meta charset=\"utf-8\" /></head>\n",
              "<body>\n",
              "    <div>            <script src=\"https://cdnjs.cloudflare.com/ajax/libs/mathjax/2.7.5/MathJax.js?config=TeX-AMS-MML_SVG\"></script><script type=\"text/javascript\">if (window.MathJax && window.MathJax.Hub && window.MathJax.Hub.Config) {window.MathJax.Hub.Config({SVG: {font: \"STIX-Web\"}});}</script>                <script type=\"text/javascript\">window.PlotlyConfig = {MathJaxConfig: 'local'};</script>\n",
              "        <script charset=\"utf-8\" src=\"https://cdn.plot.ly/plotly-2.35.2.min.js\"></script>                <div id=\"f0057066-c33e-4bc5-b21f-a508a0567fc0\" class=\"plotly-graph-div\" style=\"height:525px; width:100%;\"></div>            <script type=\"text/javascript\">                                    window.PLOTLYENV=window.PLOTLYENV || {};                                    if (document.getElementById(\"f0057066-c33e-4bc5-b21f-a508a0567fc0\")) {                    Plotly.newPlot(                        \"f0057066-c33e-4bc5-b21f-a508a0567fc0\",                        [{\"name\":\"Close Price\",\"x\":[\"2024-04-29T00:00:00-04:00\",\"2024-04-30T00:00:00-04:00\",\"2024-05-01T00:00:00-04:00\",\"2024-05-02T00:00:00-04:00\",\"2024-05-03T00:00:00-04:00\",\"2024-05-06T00:00:00-04:00\",\"2024-05-07T00:00:00-04:00\",\"2024-05-08T00:00:00-04:00\",\"2024-05-09T00:00:00-04:00\",\"2024-05-10T00:00:00-04:00\",\"2024-05-13T00:00:00-04:00\",\"2024-05-14T00:00:00-04:00\",\"2024-05-15T00:00:00-04:00\",\"2024-05-16T00:00:00-04:00\",\"2024-05-17T00:00:00-04:00\",\"2024-05-20T00:00:00-04:00\",\"2024-05-21T00:00:00-04:00\",\"2024-05-22T00:00:00-04:00\",\"2024-05-23T00:00:00-04:00\",\"2024-05-24T00:00:00-04:00\",\"2024-05-28T00:00:00-04:00\",\"2024-05-29T00:00:00-04:00\",\"2024-05-30T00:00:00-04:00\",\"2024-05-31T00:00:00-04:00\",\"2024-06-03T00:00:00-04:00\",\"2024-06-04T00:00:00-04:00\",\"2024-06-05T00:00:00-04:00\",\"2024-06-06T00:00:00-04:00\",\"2024-06-07T00:00:00-04:00\",\"2024-06-10T00:00:00-04:00\",\"2024-06-11T00:00:00-04:00\",\"2024-06-12T00:00:00-04:00\",\"2024-06-13T00:00:00-04:00\",\"2024-06-14T00:00:00-04:00\",\"2024-06-17T00:00:00-04:00\",\"2024-06-18T00:00:00-04:00\",\"2024-06-20T00:00:00-04:00\",\"2024-06-21T00:00:00-04:00\",\"2024-06-24T00:00:00-04:00\",\"2024-06-25T00:00:00-04:00\",\"2024-06-26T00:00:00-04:00\",\"2024-06-27T00:00:00-04:00\",\"2024-06-28T00:00:00-04:00\",\"2024-07-01T00:00:00-04:00\",\"2024-07-02T00:00:00-04:00\",\"2024-07-03T00:00:00-04:00\",\"2024-07-05T00:00:00-04:00\",\"2024-07-08T00:00:00-04:00\",\"2024-07-09T00:00:00-04:00\",\"2024-07-10T00:00:00-04:00\",\"2024-07-11T00:00:00-04:00\",\"2024-07-12T00:00:00-04:00\",\"2024-07-15T00:00:00-04:00\",\"2024-07-16T00:00:00-04:00\",\"2024-07-17T00:00:00-04:00\",\"2024-07-18T00:00:00-04:00\",\"2024-07-19T00:00:00-04:00\",\"2024-07-22T00:00:00-04:00\",\"2024-07-23T00:00:00-04:00\",\"2024-07-24T00:00:00-04:00\",\"2024-07-25T00:00:00-04:00\",\"2024-07-26T00:00:00-04:00\",\"2024-07-29T00:00:00-04:00\",\"2024-07-30T00:00:00-04:00\",\"2024-07-31T00:00:00-04:00\",\"2024-08-01T00:00:00-04:00\",\"2024-08-02T00:00:00-04:00\",\"2024-08-05T00:00:00-04:00\",\"2024-08-06T00:00:00-04:00\",\"2024-08-07T00:00:00-04:00\",\"2024-08-08T00:00:00-04:00\",\"2024-08-09T00:00:00-04:00\",\"2024-08-12T00:00:00-04:00\",\"2024-08-13T00:00:00-04:00\",\"2024-08-14T00:00:00-04:00\",\"2024-08-15T00:00:00-04:00\",\"2024-08-16T00:00:00-04:00\",\"2024-08-19T00:00:00-04:00\",\"2024-08-20T00:00:00-04:00\",\"2024-08-21T00:00:00-04:00\",\"2024-08-22T00:00:00-04:00\",\"2024-08-23T00:00:00-04:00\",\"2024-08-26T00:00:00-04:00\",\"2024-08-27T00:00:00-04:00\",\"2024-08-28T00:00:00-04:00\",\"2024-08-29T00:00:00-04:00\",\"2024-08-30T00:00:00-04:00\",\"2024-09-03T00:00:00-04:00\",\"2024-09-04T00:00:00-04:00\",\"2024-09-05T00:00:00-04:00\",\"2024-09-06T00:00:00-04:00\",\"2024-09-09T00:00:00-04:00\",\"2024-09-10T00:00:00-04:00\",\"2024-09-11T00:00:00-04:00\",\"2024-09-12T00:00:00-04:00\",\"2024-09-13T00:00:00-04:00\",\"2024-09-16T00:00:00-04:00\",\"2024-09-17T00:00:00-04:00\",\"2024-09-18T00:00:00-04:00\",\"2024-09-19T00:00:00-04:00\",\"2024-09-20T00:00:00-04:00\",\"2024-09-23T00:00:00-04:00\",\"2024-09-24T00:00:00-04:00\",\"2024-09-25T00:00:00-04:00\",\"2024-09-26T00:00:00-04:00\",\"2024-09-27T00:00:00-04:00\",\"2024-09-30T00:00:00-04:00\",\"2024-10-01T00:00:00-04:00\",\"2024-10-02T00:00:00-04:00\",\"2024-10-03T00:00:00-04:00\",\"2024-10-04T00:00:00-04:00\",\"2024-10-07T00:00:00-04:00\",\"2024-10-08T00:00:00-04:00\",\"2024-10-09T00:00:00-04:00\",\"2024-10-10T00:00:00-04:00\",\"2024-10-11T00:00:00-04:00\",\"2024-10-14T00:00:00-04:00\",\"2024-10-15T00:00:00-04:00\",\"2024-10-16T00:00:00-04:00\",\"2024-10-17T00:00:00-04:00\",\"2024-10-18T00:00:00-04:00\",\"2024-10-21T00:00:00-04:00\",\"2024-10-22T00:00:00-04:00\",\"2024-10-23T00:00:00-04:00\",\"2024-10-24T00:00:00-04:00\",\"2024-10-25T00:00:00-04:00\",\"2024-10-28T00:00:00-04:00\",\"2024-10-29T00:00:00-04:00\",\"2024-10-30T00:00:00-04:00\",\"2024-10-31T00:00:00-04:00\",\"2024-11-01T00:00:00-04:00\",\"2024-11-04T00:00:00-05:00\",\"2024-11-05T00:00:00-05:00\",\"2024-11-06T00:00:00-05:00\",\"2024-11-07T00:00:00-05:00\",\"2024-11-08T00:00:00-05:00\",\"2024-11-11T00:00:00-05:00\",\"2024-11-12T00:00:00-05:00\",\"2024-11-13T00:00:00-05:00\",\"2024-11-14T00:00:00-05:00\",\"2024-11-15T00:00:00-05:00\",\"2024-11-18T00:00:00-05:00\",\"2024-11-19T00:00:00-05:00\",\"2024-11-20T00:00:00-05:00\",\"2024-11-21T00:00:00-05:00\",\"2024-11-22T00:00:00-05:00\",\"2024-11-25T00:00:00-05:00\",\"2024-11-26T00:00:00-05:00\",\"2024-11-27T00:00:00-05:00\",\"2024-11-29T00:00:00-05:00\",\"2024-12-02T00:00:00-05:00\",\"2024-12-03T00:00:00-05:00\",\"2024-12-04T00:00:00-05:00\",\"2024-12-05T00:00:00-05:00\",\"2024-12-06T00:00:00-05:00\",\"2024-12-09T00:00:00-05:00\",\"2024-12-10T00:00:00-05:00\",\"2024-12-11T00:00:00-05:00\",\"2024-12-12T00:00:00-05:00\",\"2024-12-13T00:00:00-05:00\",\"2024-12-16T00:00:00-05:00\",\"2024-12-17T00:00:00-05:00\",\"2024-12-18T00:00:00-05:00\",\"2024-12-19T00:00:00-05:00\",\"2024-12-20T00:00:00-05:00\",\"2024-12-23T00:00:00-05:00\",\"2024-12-24T00:00:00-05:00\",\"2024-12-26T00:00:00-05:00\",\"2024-12-27T00:00:00-05:00\",\"2024-12-30T00:00:00-05:00\",\"2024-12-31T00:00:00-05:00\",\"2025-01-02T00:00:00-05:00\",\"2025-01-03T00:00:00-05:00\",\"2025-01-06T00:00:00-05:00\",\"2025-01-07T00:00:00-05:00\",\"2025-01-08T00:00:00-05:00\",\"2025-01-10T00:00:00-05:00\",\"2025-01-13T00:00:00-05:00\",\"2025-01-14T00:00:00-05:00\",\"2025-01-15T00:00:00-05:00\",\"2025-01-16T00:00:00-05:00\",\"2025-01-17T00:00:00-05:00\",\"2025-01-21T00:00:00-05:00\",\"2025-01-22T00:00:00-05:00\",\"2025-01-23T00:00:00-05:00\",\"2025-01-24T00:00:00-05:00\",\"2025-01-27T00:00:00-05:00\",\"2025-01-28T00:00:00-05:00\",\"2025-01-29T00:00:00-05:00\",\"2025-01-30T00:00:00-05:00\",\"2025-01-31T00:00:00-05:00\",\"2025-02-03T00:00:00-05:00\",\"2025-02-04T00:00:00-05:00\",\"2025-02-05T00:00:00-05:00\",\"2025-02-06T00:00:00-05:00\",\"2025-02-07T00:00:00-05:00\",\"2025-02-10T00:00:00-05:00\",\"2025-02-11T00:00:00-05:00\",\"2025-02-12T00:00:00-05:00\",\"2025-02-13T00:00:00-05:00\",\"2025-02-14T00:00:00-05:00\",\"2025-02-18T00:00:00-05:00\",\"2025-02-19T00:00:00-05:00\",\"2025-02-20T00:00:00-05:00\",\"2025-02-21T00:00:00-05:00\",\"2025-02-24T00:00:00-05:00\",\"2025-02-25T00:00:00-05:00\",\"2025-02-26T00:00:00-05:00\",\"2025-02-27T00:00:00-05:00\",\"2025-02-28T00:00:00-05:00\",\"2025-03-03T00:00:00-05:00\",\"2025-03-04T00:00:00-05:00\",\"2025-03-05T00:00:00-05:00\",\"2025-03-06T00:00:00-05:00\",\"2025-03-07T00:00:00-05:00\",\"2025-03-10T00:00:00-04:00\",\"2025-03-11T00:00:00-04:00\",\"2025-03-12T00:00:00-04:00\",\"2025-03-13T00:00:00-04:00\",\"2025-03-14T00:00:00-04:00\",\"2025-03-17T00:00:00-04:00\",\"2025-03-18T00:00:00-04:00\",\"2025-03-19T00:00:00-04:00\",\"2025-03-20T00:00:00-04:00\",\"2025-03-21T00:00:00-04:00\",\"2025-03-24T00:00:00-04:00\",\"2025-03-25T00:00:00-04:00\",\"2025-03-26T00:00:00-04:00\",\"2025-03-27T00:00:00-04:00\",\"2025-03-28T00:00:00-04:00\",\"2025-03-31T00:00:00-04:00\",\"2025-04-01T00:00:00-04:00\",\"2025-04-02T00:00:00-04:00\",\"2025-04-03T00:00:00-04:00\",\"2025-04-04T00:00:00-04:00\",\"2025-04-07T00:00:00-04:00\",\"2025-04-08T00:00:00-04:00\",\"2025-04-09T00:00:00-04:00\",\"2025-04-10T00:00:00-04:00\",\"2025-04-11T00:00:00-04:00\",\"2025-04-14T00:00:00-04:00\",\"2025-04-15T00:00:00-04:00\",\"2025-04-16T00:00:00-04:00\",\"2025-04-17T00:00:00-04:00\",\"2025-04-21T00:00:00-04:00\",\"2025-04-22T00:00:00-04:00\",\"2025-04-23T00:00:00-04:00\",\"2025-04-24T00:00:00-04:00\",\"2025-04-25T00:00:00-04:00\",\"2025-04-28T00:00:00-04:00\"],\"y\":[172.68460083007812,169.5294952392578,168.5043487548828,172.21682739257812,182.5181884765625,180.8560333251953,181.54278564453125,181.88119506835938,183.7025909423828,182.43682861328125,185.65602111816406,186.8021697998047,189.08450317382812,189.2041015625,189.2340087890625,190.40008544921875,191.70570373535156,190.26055908203125,186.25401306152344,189.3436279296875,189.35360717773438,189.652587890625,190.6492462158203,191.6060333251953,193.3800506591797,193.69898986816406,195.21389770507812,193.82855224609375,196.23048400878906,192.4730987548828,206.45611572265625,212.35630798339844,213.52236938476562,211.77822875976562,215.94422912597656,213.5721893310547,208.97764587402344,206.79498291015625,207.4427947998047,208.36968994140625,212.5356903076172,213.3828582763672,209.9144744873047,216.02395629882812,219.53216552734375,220.80789184570312,225.5818328857422,227.056884765625,227.9139862060547,232.1995849609375,226.80772399902344,229.76776123046875,233.61483764648438,234.033447265625,228.1133270263672,223.42906188964844,223.55862426757812,223.20980834960938,224.25628662109375,217.80795288085938,216.76148986816406,217.2299041748047,217.50897216796875,218.0670928955078,221.3361053466797,217.62857055664062,219.12353515625,208.5690155029297,206.5358428955078,209.1171875,212.59547424316406,215.51568603515625,217.0522918701172,220.78407287597656,221.23309326171875,224.22650146484375,225.5535888671875,225.39393615722656,226.0125732421875,225.90280151367188,224.03692626953125,226.3418426513672,226.68109130859375,227.5292205810547,225.99261474609375,229.28536987304688,228.49710083007812,222.28077697753906,220.36500549316406,221.89163208007812,220.3350830078125,220.42486572265625,219.6266326904297,222.1710205078125,222.28077697753906,222.01138305664062,215.84495544433594,216.31390380859375,220.20535278320312,228.3673858642578,227.6988525390625,225.97265625,226.8706817626953,225.8728790283203,227.02035522460938,227.2897491455078,232.4883270263672,225.71324157714844,226.281982421875,225.17440795898438,226.30194091796875,221.20315551757812,225.27420043945312,229.03591918945312,228.53701782226562,227.05029296875,230.79205322265625,233.33645629882812,231.27099609375,231.6401824951172,234.48391723632812,235.96067810058594,235.342041015625,230.25323486328125,230.0636749267578,230.9018096923828,232.88743591308594,233.15684509277344,229.5946807861328,225.4138946533203,222.42047119140625,221.52244567871094,222.95928955078125,222.23089599609375,226.98043823242188,226.7107391357422,223.98373413085938,223.98373413085938,224.8727569580078,227.9693603515625,224.7528839111328,227.7695770263672,228.02928161621094,228.7484893798828,228.26902770996094,229.61753845214844,232.61424255371094,234.8018341064453,234.67198181152344,237.06935119628906,239.3268585205078,242.3834991455078,242.74310302734375,242.7730712890625,242.5732879638672,246.47900390625,247.4978790283203,246.2192840576172,247.68768310546875,247.85748291015625,250.7642822265625,253.20159912109375,247.77757263183594,249.51565551757812,254.21051025390625,254.98965454101562,257.91644287109375,258.7355041503906,255.30929565429688,251.9230194091797,250.1449737548828,243.5821990966797,243.0927276611328,244.73092651367188,241.94400024414062,242.43344116210938,236.58987426757812,234.14256286621094,233.02378845214844,237.60874938964844,228.00930786132812,229.7274169921875,222.39547729492188,223.58416748046875,223.41436767578125,222.5353240966797,229.6075439453125,237.99832153320312,239.0971221923828,237.3290557861328,235.74081420898438,227.75958251953125,232.54432678222656,232.21469116210938,232.9638671875,227.3800048828125,227.64999389648438,232.6199951171875,236.8699951171875,241.52999877929688,244.60000610351562,244.47000122070312,244.8699951171875,245.8300018310547,245.5500030517578,247.10000610351562,247.0399932861328,240.36000061035156,237.3000030517578,241.83999633789062,238.02999877929688,235.92999267578125,235.74000549316406,235.3300018310547,239.07000732421875,227.47999572753906,220.83999633789062,216.97999572753906,209.67999267578125,213.49000549316406,214.0,212.69000244140625,215.24000549316406,214.10000610351562,218.27000427246094,220.72999572753906,223.75,221.52999877929688,223.85000610351562,217.89999389648438,222.1300048828125,223.19000244140625,223.88999938964844,203.19000244140625,188.3800048828125,181.4600067138672,172.4199981689453,198.85000610351562,190.4199981689453,198.14999389648438,202.52000427246094,202.13999938964844,194.27000427246094,196.97999572753906,193.16000366210938,199.74000549316406,204.60000610351562,208.3699951171875,209.27999877929688,210.13999938964844],\"type\":\"scatter\"},{\"name\":\"Momentum\",\"x\":[\"2024-04-29T00:00:00-04:00\",\"2024-04-30T00:00:00-04:00\",\"2024-05-01T00:00:00-04:00\",\"2024-05-02T00:00:00-04:00\",\"2024-05-03T00:00:00-04:00\",\"2024-05-06T00:00:00-04:00\",\"2024-05-07T00:00:00-04:00\",\"2024-05-08T00:00:00-04:00\",\"2024-05-09T00:00:00-04:00\",\"2024-05-10T00:00:00-04:00\",\"2024-05-13T00:00:00-04:00\",\"2024-05-14T00:00:00-04:00\",\"2024-05-15T00:00:00-04:00\",\"2024-05-16T00:00:00-04:00\",\"2024-05-17T00:00:00-04:00\",\"2024-05-20T00:00:00-04:00\",\"2024-05-21T00:00:00-04:00\",\"2024-05-22T00:00:00-04:00\",\"2024-05-23T00:00:00-04:00\",\"2024-05-24T00:00:00-04:00\",\"2024-05-28T00:00:00-04:00\",\"2024-05-29T00:00:00-04:00\",\"2024-05-30T00:00:00-04:00\",\"2024-05-31T00:00:00-04:00\",\"2024-06-03T00:00:00-04:00\",\"2024-06-04T00:00:00-04:00\",\"2024-06-05T00:00:00-04:00\",\"2024-06-06T00:00:00-04:00\",\"2024-06-07T00:00:00-04:00\",\"2024-06-10T00:00:00-04:00\",\"2024-06-11T00:00:00-04:00\",\"2024-06-12T00:00:00-04:00\",\"2024-06-13T00:00:00-04:00\",\"2024-06-14T00:00:00-04:00\",\"2024-06-17T00:00:00-04:00\",\"2024-06-18T00:00:00-04:00\",\"2024-06-20T00:00:00-04:00\",\"2024-06-21T00:00:00-04:00\",\"2024-06-24T00:00:00-04:00\",\"2024-06-25T00:00:00-04:00\",\"2024-06-26T00:00:00-04:00\",\"2024-06-27T00:00:00-04:00\",\"2024-06-28T00:00:00-04:00\",\"2024-07-01T00:00:00-04:00\",\"2024-07-02T00:00:00-04:00\",\"2024-07-03T00:00:00-04:00\",\"2024-07-05T00:00:00-04:00\",\"2024-07-08T00:00:00-04:00\",\"2024-07-09T00:00:00-04:00\",\"2024-07-10T00:00:00-04:00\",\"2024-07-11T00:00:00-04:00\",\"2024-07-12T00:00:00-04:00\",\"2024-07-15T00:00:00-04:00\",\"2024-07-16T00:00:00-04:00\",\"2024-07-17T00:00:00-04:00\",\"2024-07-18T00:00:00-04:00\",\"2024-07-19T00:00:00-04:00\",\"2024-07-22T00:00:00-04:00\",\"2024-07-23T00:00:00-04:00\",\"2024-07-24T00:00:00-04:00\",\"2024-07-25T00:00:00-04:00\",\"2024-07-26T00:00:00-04:00\",\"2024-07-29T00:00:00-04:00\",\"2024-07-30T00:00:00-04:00\",\"2024-07-31T00:00:00-04:00\",\"2024-08-01T00:00:00-04:00\",\"2024-08-02T00:00:00-04:00\",\"2024-08-05T00:00:00-04:00\",\"2024-08-06T00:00:00-04:00\",\"2024-08-07T00:00:00-04:00\",\"2024-08-08T00:00:00-04:00\",\"2024-08-09T00:00:00-04:00\",\"2024-08-12T00:00:00-04:00\",\"2024-08-13T00:00:00-04:00\",\"2024-08-14T00:00:00-04:00\",\"2024-08-15T00:00:00-04:00\",\"2024-08-16T00:00:00-04:00\",\"2024-08-19T00:00:00-04:00\",\"2024-08-20T00:00:00-04:00\",\"2024-08-21T00:00:00-04:00\",\"2024-08-22T00:00:00-04:00\",\"2024-08-23T00:00:00-04:00\",\"2024-08-26T00:00:00-04:00\",\"2024-08-27T00:00:00-04:00\",\"2024-08-28T00:00:00-04:00\",\"2024-08-29T00:00:00-04:00\",\"2024-08-30T00:00:00-04:00\",\"2024-09-03T00:00:00-04:00\",\"2024-09-04T00:00:00-04:00\",\"2024-09-05T00:00:00-04:00\",\"2024-09-06T00:00:00-04:00\",\"2024-09-09T00:00:00-04:00\",\"2024-09-10T00:00:00-04:00\",\"2024-09-11T00:00:00-04:00\",\"2024-09-12T00:00:00-04:00\",\"2024-09-13T00:00:00-04:00\",\"2024-09-16T00:00:00-04:00\",\"2024-09-17T00:00:00-04:00\",\"2024-09-18T00:00:00-04:00\",\"2024-09-19T00:00:00-04:00\",\"2024-09-20T00:00:00-04:00\",\"2024-09-23T00:00:00-04:00\",\"2024-09-24T00:00:00-04:00\",\"2024-09-25T00:00:00-04:00\",\"2024-09-26T00:00:00-04:00\",\"2024-09-27T00:00:00-04:00\",\"2024-09-30T00:00:00-04:00\",\"2024-10-01T00:00:00-04:00\",\"2024-10-02T00:00:00-04:00\",\"2024-10-03T00:00:00-04:00\",\"2024-10-04T00:00:00-04:00\",\"2024-10-07T00:00:00-04:00\",\"2024-10-08T00:00:00-04:00\",\"2024-10-09T00:00:00-04:00\",\"2024-10-10T00:00:00-04:00\",\"2024-10-11T00:00:00-04:00\",\"2024-10-14T00:00:00-04:00\",\"2024-10-15T00:00:00-04:00\",\"2024-10-16T00:00:00-04:00\",\"2024-10-17T00:00:00-04:00\",\"2024-10-18T00:00:00-04:00\",\"2024-10-21T00:00:00-04:00\",\"2024-10-22T00:00:00-04:00\",\"2024-10-23T00:00:00-04:00\",\"2024-10-24T00:00:00-04:00\",\"2024-10-25T00:00:00-04:00\",\"2024-10-28T00:00:00-04:00\",\"2024-10-29T00:00:00-04:00\",\"2024-10-30T00:00:00-04:00\",\"2024-10-31T00:00:00-04:00\",\"2024-11-01T00:00:00-04:00\",\"2024-11-04T00:00:00-05:00\",\"2024-11-05T00:00:00-05:00\",\"2024-11-06T00:00:00-05:00\",\"2024-11-07T00:00:00-05:00\",\"2024-11-08T00:00:00-05:00\",\"2024-11-11T00:00:00-05:00\",\"2024-11-12T00:00:00-05:00\",\"2024-11-13T00:00:00-05:00\",\"2024-11-14T00:00:00-05:00\",\"2024-11-15T00:00:00-05:00\",\"2024-11-18T00:00:00-05:00\",\"2024-11-19T00:00:00-05:00\",\"2024-11-20T00:00:00-05:00\",\"2024-11-21T00:00:00-05:00\",\"2024-11-22T00:00:00-05:00\",\"2024-11-25T00:00:00-05:00\",\"2024-11-26T00:00:00-05:00\",\"2024-11-27T00:00:00-05:00\",\"2024-11-29T00:00:00-05:00\",\"2024-12-02T00:00:00-05:00\",\"2024-12-03T00:00:00-05:00\",\"2024-12-04T00:00:00-05:00\",\"2024-12-05T00:00:00-05:00\",\"2024-12-06T00:00:00-05:00\",\"2024-12-09T00:00:00-05:00\",\"2024-12-10T00:00:00-05:00\",\"2024-12-11T00:00:00-05:00\",\"2024-12-12T00:00:00-05:00\",\"2024-12-13T00:00:00-05:00\",\"2024-12-16T00:00:00-05:00\",\"2024-12-17T00:00:00-05:00\",\"2024-12-18T00:00:00-05:00\",\"2024-12-19T00:00:00-05:00\",\"2024-12-20T00:00:00-05:00\",\"2024-12-23T00:00:00-05:00\",\"2024-12-24T00:00:00-05:00\",\"2024-12-26T00:00:00-05:00\",\"2024-12-27T00:00:00-05:00\",\"2024-12-30T00:00:00-05:00\",\"2024-12-31T00:00:00-05:00\",\"2025-01-02T00:00:00-05:00\",\"2025-01-03T00:00:00-05:00\",\"2025-01-06T00:00:00-05:00\",\"2025-01-07T00:00:00-05:00\",\"2025-01-08T00:00:00-05:00\",\"2025-01-10T00:00:00-05:00\",\"2025-01-13T00:00:00-05:00\",\"2025-01-14T00:00:00-05:00\",\"2025-01-15T00:00:00-05:00\",\"2025-01-16T00:00:00-05:00\",\"2025-01-17T00:00:00-05:00\",\"2025-01-21T00:00:00-05:00\",\"2025-01-22T00:00:00-05:00\",\"2025-01-23T00:00:00-05:00\",\"2025-01-24T00:00:00-05:00\",\"2025-01-27T00:00:00-05:00\",\"2025-01-28T00:00:00-05:00\",\"2025-01-29T00:00:00-05:00\",\"2025-01-30T00:00:00-05:00\",\"2025-01-31T00:00:00-05:00\",\"2025-02-03T00:00:00-05:00\",\"2025-02-04T00:00:00-05:00\",\"2025-02-05T00:00:00-05:00\",\"2025-02-06T00:00:00-05:00\",\"2025-02-07T00:00:00-05:00\",\"2025-02-10T00:00:00-05:00\",\"2025-02-11T00:00:00-05:00\",\"2025-02-12T00:00:00-05:00\",\"2025-02-13T00:00:00-05:00\",\"2025-02-14T00:00:00-05:00\",\"2025-02-18T00:00:00-05:00\",\"2025-02-19T00:00:00-05:00\",\"2025-02-20T00:00:00-05:00\",\"2025-02-21T00:00:00-05:00\",\"2025-02-24T00:00:00-05:00\",\"2025-02-25T00:00:00-05:00\",\"2025-02-26T00:00:00-05:00\",\"2025-02-27T00:00:00-05:00\",\"2025-02-28T00:00:00-05:00\",\"2025-03-03T00:00:00-05:00\",\"2025-03-04T00:00:00-05:00\",\"2025-03-05T00:00:00-05:00\",\"2025-03-06T00:00:00-05:00\",\"2025-03-07T00:00:00-05:00\",\"2025-03-10T00:00:00-04:00\",\"2025-03-11T00:00:00-04:00\",\"2025-03-12T00:00:00-04:00\",\"2025-03-13T00:00:00-04:00\",\"2025-03-14T00:00:00-04:00\",\"2025-03-17T00:00:00-04:00\",\"2025-03-18T00:00:00-04:00\",\"2025-03-19T00:00:00-04:00\",\"2025-03-20T00:00:00-04:00\",\"2025-03-21T00:00:00-04:00\",\"2025-03-24T00:00:00-04:00\",\"2025-03-25T00:00:00-04:00\",\"2025-03-26T00:00:00-04:00\",\"2025-03-27T00:00:00-04:00\",\"2025-03-28T00:00:00-04:00\",\"2025-03-31T00:00:00-04:00\",\"2025-04-01T00:00:00-04:00\",\"2025-04-02T00:00:00-04:00\",\"2025-04-03T00:00:00-04:00\",\"2025-04-04T00:00:00-04:00\",\"2025-04-07T00:00:00-04:00\",\"2025-04-08T00:00:00-04:00\",\"2025-04-09T00:00:00-04:00\",\"2025-04-10T00:00:00-04:00\",\"2025-04-11T00:00:00-04:00\",\"2025-04-14T00:00:00-04:00\",\"2025-04-15T00:00:00-04:00\",\"2025-04-16T00:00:00-04:00\",\"2025-04-17T00:00:00-04:00\",\"2025-04-21T00:00:00-04:00\",\"2025-04-22T00:00:00-04:00\",\"2025-04-23T00:00:00-04:00\",\"2025-04-24T00:00:00-04:00\",\"2025-04-25T00:00:00-04:00\",\"2025-04-28T00:00:00-04:00\"],\"y\":[null,-0.018270914578682906,-0.006047009595163355,0.0220319455558724,0.05981622841362544,-0.009106791850394869,0.0037972320121668623,0.0018640753066925253,0.010014206654727964,-0.0068902802220059955,0.017645518886467038,0.006173506653528671,0.012217916828639597,0.0006325129064750357,0.00015806859531863893,0.006162088239942465,0.0068572358203118355,-0.007538349799520394,-0.02105820586168039,0.01658817878540697,0.0000527044303311186,0.0015789544088800067,0.005255179147727107,0.0050185727369300714,0.009258671573110222,0.0016492870277837746,0.0078209382400245,-0.007096551399620621,0.012392043044544332,-0.019147816267619078,0.0726492016714555,0.028578432952154564,0.005491060813970883,-0.008168421088738831,0.019671523322337015,-0.010984501899043986,-0.021512835877284253,-0.01044448057943459,0.0031326286572914697,0.00446819636467044,0.01999331269045146,0.003986003327365095,-0.016254275610885105,0.02910462380664902,0.01623990824268895,0.005811113443421556,0.021620337027514536,0.00653887709401646,0.0037748313217387253,0.018803579482867816,-0.023220803615222385,0.013050866078344159,0.016743325501425765,0.0017918794172400165,-0.025296043400747537,-0.020534815732959344,0.0005798814927382434,-0.0015602883543927026,0.004688316697289974,-0.0287543053414131,-0.004804521592780109,0.0021609664471557988,0.0012846665574159921,0.002565966460951641,0.01499085628998742,-0.0167507004075631,0.006869339792039408,-0.04816698327632507,-0.009748200625674053,0.012498288763360899,0.016633193974857186,0.013736001682952415,0.007129902529277032,0.017193004384825628,0.002033753521679227,0.013530562534709967,0.005918512725632485,-0.0007078260681320225,0.0027446926723415643,-0.0004856885921916687,-0.008259637470798276,0.010288109287229563,0.0014988331510099595,0.0037415086876670944,-0.006753443935846204,0.014570189077428797,-0.0034379386849026083,-0.02720526356770636,-0.008618700683094116,0.006927717871980432,-0.007014906590546377,0.00040748261065881586,-0.0036213384075775013,0.0115850604556198,0.0004940179393140287,-0.0012119532987130421,-0.027775276778179814,0.0021726167437754462,0.017989823613246525,0.037065552575783034,-0.0029274465907872527,-0.0075810495740920025,0.003974045035350704,-0.004398112292970047,0.005080185816134231,0.0011866509530913394,0.022872029646754166,-0.02914161556356487,0.0025197495758446653,-0.004894664838253404,0.005007376145470976,-0.02253089558007315,0.018404099671857965,0.016698400183695394,-0.0021782669240401065,-0.006505400602854872,0.01647987415026697,0.011024656354684748,-0.008851853833045875,0.001596336797968112,0.012276517444337998,0.006297919625632309,-0.0026217804167235625,-0.021623022093217426,-0.0008232672024607313,0.0036430556274988923,0.008599439836995959,0.0011568214430770496,-0.015277974383395176,-0.018209420699545342,-0.013279675889180886,-0.004037512859697667,0.006486222502952499,-0.003266935215639921,0.021372105867816016,-0.0011882041412023536,-0.012028565630717747,0.0,0.003969140127956905,0.013770469288696185,-0.014109248872170355,0.013422266547766126,0.0011402075432298542,0.003154014951826989,-0.0020960211419173147,0.005907550208260837,0.013050850217118715,0.00940437493731383,-0.00055302930411949,0.010215831332992531,0.009522560857517126,0.012771824457546543,0.0014836153579087519,0.0001234566969978701,-0.0008229220981327279,0.016101179050533432,0.004133719732402952,-0.005166084556857187,0.005963785710253022,0.0006855399612875068,0.011727704494844282,0.009719553649706558,-0.021421770273511442,0.007014690099998555,0.018815872401230394,0.0030649570166518814,0.011478066964506484,0.0031756846138972783,-0.01324212735064867,-0.01326342715583062,-0.007057892758140283,-0.026235884574015045,-0.002009471288797249,0.006738987497901139,-0.011387715926354569,0.0020229512510121506,-0.024103798826267564,-0.010344108804078989,-0.004778176169113579,0.01967593509639265,-0.04040020223572849,0.007535258744368001,-0.03191582351493971,0.005344938665144516,-0.0007594446717803516,-0.003934588398438299,0.03178021232063055,0.03654399783087747,0.0046168420520831255,-0.0073947623879278,-0.006692149732309471,-0.03385596048030004,0.021007872466946687,-0.0014175173597156254,0.003226221483410008,-0.023968791264069034,0.0011873911860060815,0.021831765227118938,0.018270140526221557,0.01967325435120615,0.012710666748373622,-0.0005314999164697243,0.001636167605379324,0.003920475080696484,-0.001138993520771736,0.00631237235794746,-0.0002428685386501872,-0.027040126527384523,-0.012730893454915293,0.019131872009047424,-0.01575420780800274,-0.00882244302938795,-0.0008052693108767661,-0.0017392197020257294,0.015892599600832114,-0.04847957184759566,-0.029189377151217277,-0.017478720677234882,-0.03364366852013578,0.01817060735629683,0.00238884488132296,-0.006121483918662407,0.011989294383784266,-0.0052964103352275416,0.019476870855058115,0.011270405492856295,0.013681893403326706,-0.009921793165153625,0.010472655337889991,-0.026580353115021937,0.019412625538381745,0.0047719692760685994,0.003136327526256366,-0.09245610346452682,-0.07288743235713335,-0.036734249865053914,-0.049818186985832624,0.15328852926139658,-0.04239380274487847,0.0405944533235465,0.022054052538903912,-0.0018763819612667154,-0.038933388448355366,0.013949613401343264,-0.019392791899099593,0.03406503264808869,0.024331633507028716,0.018426143212158408,0.0043672490446504675,0.0041093301575299],\"yaxis\":\"y2\",\"type\":\"scatter\"},{\"marker\":{\"color\":\"green\",\"symbol\":\"triangle-up\"},\"mode\":\"markers\",\"name\":\"Buy\",\"x\":[\"2024-05-02T00:00:00-04:00\",\"2024-05-03T00:00:00-04:00\",\"2024-05-07T00:00:00-04:00\",\"2024-05-08T00:00:00-04:00\",\"2024-05-09T00:00:00-04:00\",\"2024-05-13T00:00:00-04:00\",\"2024-05-14T00:00:00-04:00\",\"2024-05-15T00:00:00-04:00\",\"2024-05-16T00:00:00-04:00\",\"2024-05-17T00:00:00-04:00\",\"2024-05-20T00:00:00-04:00\",\"2024-05-21T00:00:00-04:00\",\"2024-05-24T00:00:00-04:00\",\"2024-05-28T00:00:00-04:00\",\"2024-05-29T00:00:00-04:00\",\"2024-05-30T00:00:00-04:00\",\"2024-05-31T00:00:00-04:00\",\"2024-06-03T00:00:00-04:00\",\"2024-06-04T00:00:00-04:00\",\"2024-06-05T00:00:00-04:00\",\"2024-06-07T00:00:00-04:00\",\"2024-06-11T00:00:00-04:00\",\"2024-06-12T00:00:00-04:00\",\"2024-06-13T00:00:00-04:00\",\"2024-06-17T00:00:00-04:00\",\"2024-06-24T00:00:00-04:00\",\"2024-06-25T00:00:00-04:00\",\"2024-06-26T00:00:00-04:00\",\"2024-06-27T00:00:00-04:00\",\"2024-07-01T00:00:00-04:00\",\"2024-07-02T00:00:00-04:00\",\"2024-07-03T00:00:00-04:00\",\"2024-07-05T00:00:00-04:00\",\"2024-07-08T00:00:00-04:00\",\"2024-07-09T00:00:00-04:00\",\"2024-07-10T00:00:00-04:00\",\"2024-07-12T00:00:00-04:00\",\"2024-07-15T00:00:00-04:00\",\"2024-07-16T00:00:00-04:00\",\"2024-07-19T00:00:00-04:00\",\"2024-07-23T00:00:00-04:00\",\"2024-07-26T00:00:00-04:00\",\"2024-07-29T00:00:00-04:00\",\"2024-07-30T00:00:00-04:00\",\"2024-07-31T00:00:00-04:00\",\"2024-08-02T00:00:00-04:00\",\"2024-08-07T00:00:00-04:00\",\"2024-08-08T00:00:00-04:00\",\"2024-08-09T00:00:00-04:00\",\"2024-08-12T00:00:00-04:00\",\"2024-08-13T00:00:00-04:00\",\"2024-08-14T00:00:00-04:00\",\"2024-08-15T00:00:00-04:00\",\"2024-08-16T00:00:00-04:00\",\"2024-08-20T00:00:00-04:00\",\"2024-08-23T00:00:00-04:00\",\"2024-08-26T00:00:00-04:00\",\"2024-08-27T00:00:00-04:00\",\"2024-08-29T00:00:00-04:00\",\"2024-09-05T00:00:00-04:00\",\"2024-09-09T00:00:00-04:00\",\"2024-09-11T00:00:00-04:00\",\"2024-09-12T00:00:00-04:00\",\"2024-09-17T00:00:00-04:00\",\"2024-09-18T00:00:00-04:00\",\"2024-09-19T00:00:00-04:00\",\"2024-09-24T00:00:00-04:00\",\"2024-09-26T00:00:00-04:00\",\"2024-09-27T00:00:00-04:00\",\"2024-09-30T00:00:00-04:00\",\"2024-10-02T00:00:00-04:00\",\"2024-10-04T00:00:00-04:00\",\"2024-10-08T00:00:00-04:00\",\"2024-10-09T00:00:00-04:00\",\"2024-10-14T00:00:00-04:00\",\"2024-10-15T00:00:00-04:00\",\"2024-10-17T00:00:00-04:00\",\"2024-10-18T00:00:00-04:00\",\"2024-10-21T00:00:00-04:00\",\"2024-10-25T00:00:00-04:00\",\"2024-10-28T00:00:00-04:00\",\"2024-10-29T00:00:00-04:00\",\"2024-11-05T00:00:00-05:00\",\"2024-11-07T00:00:00-05:00\",\"2024-11-13T00:00:00-05:00\",\"2024-11-14T00:00:00-05:00\",\"2024-11-18T00:00:00-05:00\",\"2024-11-19T00:00:00-05:00\",\"2024-11-20T00:00:00-05:00\",\"2024-11-22T00:00:00-05:00\",\"2024-11-25T00:00:00-05:00\",\"2024-11-26T00:00:00-05:00\",\"2024-11-29T00:00:00-05:00\",\"2024-12-02T00:00:00-05:00\",\"2024-12-03T00:00:00-05:00\",\"2024-12-04T00:00:00-05:00\",\"2024-12-05T00:00:00-05:00\",\"2024-12-09T00:00:00-05:00\",\"2024-12-10T00:00:00-05:00\",\"2024-12-12T00:00:00-05:00\",\"2024-12-13T00:00:00-05:00\",\"2024-12-16T00:00:00-05:00\",\"2024-12-17T00:00:00-05:00\",\"2024-12-19T00:00:00-05:00\",\"2024-12-20T00:00:00-05:00\",\"2024-12-23T00:00:00-05:00\",\"2024-12-24T00:00:00-05:00\",\"2024-12-26T00:00:00-05:00\",\"2025-01-06T00:00:00-05:00\",\"2025-01-08T00:00:00-05:00\",\"2025-01-15T00:00:00-05:00\",\"2025-01-17T00:00:00-05:00\",\"2025-01-22T00:00:00-05:00\",\"2025-01-27T00:00:00-05:00\",\"2025-01-28T00:00:00-05:00\",\"2025-01-29T00:00:00-05:00\",\"2025-02-04T00:00:00-05:00\",\"2025-02-06T00:00:00-05:00\",\"2025-02-10T00:00:00-05:00\",\"2025-02-11T00:00:00-05:00\",\"2025-02-12T00:00:00-05:00\",\"2025-02-13T00:00:00-05:00\",\"2025-02-14T00:00:00-05:00\",\"2025-02-19T00:00:00-05:00\",\"2025-02-20T00:00:00-05:00\",\"2025-02-24T00:00:00-05:00\",\"2025-02-28T00:00:00-05:00\",\"2025-03-07T00:00:00-05:00\",\"2025-03-14T00:00:00-04:00\",\"2025-03-17T00:00:00-04:00\",\"2025-03-19T00:00:00-04:00\",\"2025-03-21T00:00:00-04:00\",\"2025-03-24T00:00:00-04:00\",\"2025-03-25T00:00:00-04:00\",\"2025-03-27T00:00:00-04:00\",\"2025-03-31T00:00:00-04:00\",\"2025-04-01T00:00:00-04:00\",\"2025-04-02T00:00:00-04:00\",\"2025-04-09T00:00:00-04:00\",\"2025-04-11T00:00:00-04:00\",\"2025-04-14T00:00:00-04:00\",\"2025-04-17T00:00:00-04:00\",\"2025-04-22T00:00:00-04:00\",\"2025-04-23T00:00:00-04:00\",\"2025-04-24T00:00:00-04:00\",\"2025-04-25T00:00:00-04:00\",\"2025-04-28T00:00:00-04:00\"],\"y\":[172.21682739257812,182.5181884765625,181.54278564453125,181.88119506835938,183.7025909423828,185.65602111816406,186.8021697998047,189.08450317382812,189.2041015625,189.2340087890625,190.40008544921875,191.70570373535156,189.3436279296875,189.35360717773438,189.652587890625,190.6492462158203,191.6060333251953,193.3800506591797,193.69898986816406,195.21389770507812,196.23048400878906,206.45611572265625,212.35630798339844,213.52236938476562,215.94422912597656,207.4427947998047,208.36968994140625,212.5356903076172,213.3828582763672,216.02395629882812,219.53216552734375,220.80789184570312,225.5818328857422,227.056884765625,227.9139862060547,232.1995849609375,229.76776123046875,233.61483764648438,234.033447265625,223.55862426757812,224.25628662109375,217.2299041748047,217.50897216796875,218.0670928955078,221.3361053466797,219.12353515625,209.1171875,212.59547424316406,215.51568603515625,217.0522918701172,220.78407287597656,221.23309326171875,224.22650146484375,225.5535888671875,226.0125732421875,226.3418426513672,226.68109130859375,227.5292205810547,229.28536987304688,221.89163208007812,220.42486572265625,222.1710205078125,222.28077697753906,216.31390380859375,220.20535278320312,228.3673858642578,226.8706817626953,227.02035522460938,227.2897491455078,232.4883270263672,226.281982421875,226.30194091796875,225.27420043945312,229.03591918945312,230.79205322265625,233.33645629882812,231.6401824951172,234.48391723632812,235.96067810058594,230.9018096923828,232.88743591308594,233.15684509277344,222.95928955078125,226.98043823242188,224.8727569580078,227.9693603515625,227.7695770263672,228.02928161621094,228.7484893798828,229.61753845214844,232.61424255371094,234.8018341064453,237.06935119628906,239.3268585205078,242.3834991455078,242.74310302734375,242.7730712890625,246.47900390625,247.4978790283203,247.68768310546875,247.85748291015625,250.7642822265625,253.20159912109375,249.51565551757812,254.21051025390625,254.98965454101562,257.91644287109375,258.7355041503906,244.73092651367188,242.43344116210938,237.60874938964844,229.7274169921875,223.58416748046875,229.6075439453125,237.99832153320312,239.0971221923828,232.54432678222656,232.9638671875,227.64999389648438,232.6199951171875,236.8699951171875,241.52999877929688,244.60000610351562,244.8699951171875,245.8300018310547,247.10000610351562,241.83999633789062,239.07000732421875,213.49000549316406,214.0,215.24000549316406,218.27000427246094,220.72999572753906,223.75,223.85000610351562,222.1300048828125,223.19000244140625,223.88999938964844,198.85000610351562,198.14999389648438,202.52000427246094,196.97999572753906,199.74000549316406,204.60000610351562,208.3699951171875,209.27999877929688,210.13999938964844],\"type\":\"scatter\"},{\"marker\":{\"color\":\"red\",\"symbol\":\"triangle-down\"},\"mode\":\"markers\",\"name\":\"Sell\",\"x\":[\"2024-04-30T00:00:00-04:00\",\"2024-05-01T00:00:00-04:00\",\"2024-05-06T00:00:00-04:00\",\"2024-05-10T00:00:00-04:00\",\"2024-05-22T00:00:00-04:00\",\"2024-05-23T00:00:00-04:00\",\"2024-06-06T00:00:00-04:00\",\"2024-06-10T00:00:00-04:00\",\"2024-06-14T00:00:00-04:00\",\"2024-06-18T00:00:00-04:00\",\"2024-06-20T00:00:00-04:00\",\"2024-06-21T00:00:00-04:00\",\"2024-06-28T00:00:00-04:00\",\"2024-07-11T00:00:00-04:00\",\"2024-07-17T00:00:00-04:00\",\"2024-07-18T00:00:00-04:00\",\"2024-07-22T00:00:00-04:00\",\"2024-07-24T00:00:00-04:00\",\"2024-07-25T00:00:00-04:00\",\"2024-08-01T00:00:00-04:00\",\"2024-08-05T00:00:00-04:00\",\"2024-08-06T00:00:00-04:00\",\"2024-08-19T00:00:00-04:00\",\"2024-08-21T00:00:00-04:00\",\"2024-08-22T00:00:00-04:00\",\"2024-08-28T00:00:00-04:00\",\"2024-08-30T00:00:00-04:00\",\"2024-09-03T00:00:00-04:00\",\"2024-09-04T00:00:00-04:00\",\"2024-09-06T00:00:00-04:00\",\"2024-09-10T00:00:00-04:00\",\"2024-09-13T00:00:00-04:00\",\"2024-09-16T00:00:00-04:00\",\"2024-09-20T00:00:00-04:00\",\"2024-09-23T00:00:00-04:00\",\"2024-09-25T00:00:00-04:00\",\"2024-10-01T00:00:00-04:00\",\"2024-10-03T00:00:00-04:00\",\"2024-10-07T00:00:00-04:00\",\"2024-10-10T00:00:00-04:00\",\"2024-10-11T00:00:00-04:00\",\"2024-10-16T00:00:00-04:00\",\"2024-10-22T00:00:00-04:00\",\"2024-10-23T00:00:00-04:00\",\"2024-10-24T00:00:00-04:00\",\"2024-10-30T00:00:00-04:00\",\"2024-10-31T00:00:00-04:00\",\"2024-11-01T00:00:00-04:00\",\"2024-11-04T00:00:00-05:00\",\"2024-11-06T00:00:00-05:00\",\"2024-11-08T00:00:00-05:00\",\"2024-11-11T00:00:00-05:00\",\"2024-11-15T00:00:00-05:00\",\"2024-11-21T00:00:00-05:00\",\"2024-11-27T00:00:00-05:00\",\"2024-12-06T00:00:00-05:00\",\"2024-12-11T00:00:00-05:00\",\"2024-12-18T00:00:00-05:00\",\"2024-12-27T00:00:00-05:00\",\"2024-12-30T00:00:00-05:00\",\"2024-12-31T00:00:00-05:00\",\"2025-01-02T00:00:00-05:00\",\"2025-01-03T00:00:00-05:00\",\"2025-01-07T00:00:00-05:00\",\"2025-01-10T00:00:00-05:00\",\"2025-01-13T00:00:00-05:00\",\"2025-01-14T00:00:00-05:00\",\"2025-01-16T00:00:00-05:00\",\"2025-01-21T00:00:00-05:00\",\"2025-01-23T00:00:00-05:00\",\"2025-01-24T00:00:00-05:00\",\"2025-01-30T00:00:00-05:00\",\"2025-01-31T00:00:00-05:00\",\"2025-02-03T00:00:00-05:00\",\"2025-02-05T00:00:00-05:00\",\"2025-02-07T00:00:00-05:00\",\"2025-02-18T00:00:00-05:00\",\"2025-02-21T00:00:00-05:00\",\"2025-02-25T00:00:00-05:00\",\"2025-02-26T00:00:00-05:00\",\"2025-02-27T00:00:00-05:00\",\"2025-03-03T00:00:00-05:00\",\"2025-03-04T00:00:00-05:00\",\"2025-03-05T00:00:00-05:00\",\"2025-03-06T00:00:00-05:00\",\"2025-03-10T00:00:00-04:00\",\"2025-03-11T00:00:00-04:00\",\"2025-03-12T00:00:00-04:00\",\"2025-03-13T00:00:00-04:00\",\"2025-03-18T00:00:00-04:00\",\"2025-03-20T00:00:00-04:00\",\"2025-03-26T00:00:00-04:00\",\"2025-03-28T00:00:00-04:00\",\"2025-04-03T00:00:00-04:00\",\"2025-04-04T00:00:00-04:00\",\"2025-04-07T00:00:00-04:00\",\"2025-04-08T00:00:00-04:00\",\"2025-04-10T00:00:00-04:00\",\"2025-04-15T00:00:00-04:00\",\"2025-04-16T00:00:00-04:00\",\"2025-04-21T00:00:00-04:00\"],\"y\":[169.5294952392578,168.5043487548828,180.8560333251953,182.43682861328125,190.26055908203125,186.25401306152344,193.82855224609375,192.4730987548828,211.77822875976562,213.5721893310547,208.97764587402344,206.79498291015625,209.9144744873047,226.80772399902344,228.1133270263672,223.42906188964844,223.20980834960938,217.80795288085938,216.76148986816406,217.62857055664062,208.5690155029297,206.5358428955078,225.39393615722656,225.90280151367188,224.03692626953125,225.99261474609375,228.49710083007812,222.28077697753906,220.36500549316406,220.3350830078125,219.6266326904297,222.01138305664062,215.84495544433594,227.6988525390625,225.97265625,225.8728790283203,225.71324157714844,225.17440795898438,221.20315551757812,228.53701782226562,227.05029296875,231.27099609375,235.342041015625,230.25323486328125,230.0636749267578,229.5946807861328,225.4138946533203,222.42047119140625,221.52244567871094,222.23089599609375,226.7107391357422,223.98373413085938,224.7528839111328,228.26902770996094,234.67198181152344,242.5732879638672,246.2192840576172,247.77757263183594,255.30929565429688,251.9230194091797,250.1449737548828,243.5821990966797,243.0927276611328,241.94400024414062,236.58987426757812,234.14256286621094,233.02378845214844,228.00930786132812,222.39547729492188,223.41436767578125,222.5353240966797,237.3290557861328,235.74081420898438,227.75958251953125,232.21469116210938,227.3800048828125,244.47000122070312,245.5500030517578,247.0399932861328,240.36000061035156,237.3000030517578,238.02999877929688,235.92999267578125,235.74000549316406,235.3300018310547,227.47999572753906,220.83999633789062,216.97999572753906,209.67999267578125,212.69000244140625,214.10000610351562,221.52999877929688,217.89999389648438,203.19000244140625,188.3800048828125,181.4600067138672,172.4199981689453,190.4199981689453,202.13999938964844,194.27000427246094,193.16000366210938],\"type\":\"scatter\"}],                        {\"template\":{\"data\":{\"histogram2dcontour\":[{\"type\":\"histogram2dcontour\",\"colorbar\":{\"outlinewidth\":0,\"ticks\":\"\"},\"colorscale\":[[0.0,\"#0d0887\"],[0.1111111111111111,\"#46039f\"],[0.2222222222222222,\"#7201a8\"],[0.3333333333333333,\"#9c179e\"],[0.4444444444444444,\"#bd3786\"],[0.5555555555555556,\"#d8576b\"],[0.6666666666666666,\"#ed7953\"],[0.7777777777777778,\"#fb9f3a\"],[0.8888888888888888,\"#fdca26\"],[1.0,\"#f0f921\"]]}],\"choropleth\":[{\"type\":\"choropleth\",\"colorbar\":{\"outlinewidth\":0,\"ticks\":\"\"}}],\"histogram2d\":[{\"type\":\"histogram2d\",\"colorbar\":{\"outlinewidth\":0,\"ticks\":\"\"},\"colorscale\":[[0.0,\"#0d0887\"],[0.1111111111111111,\"#46039f\"],[0.2222222222222222,\"#7201a8\"],[0.3333333333333333,\"#9c179e\"],[0.4444444444444444,\"#bd3786\"],[0.5555555555555556,\"#d8576b\"],[0.6666666666666666,\"#ed7953\"],[0.7777777777777778,\"#fb9f3a\"],[0.8888888888888888,\"#fdca26\"],[1.0,\"#f0f921\"]]}],\"heatmap\":[{\"type\":\"heatmap\",\"colorbar\":{\"outlinewidth\":0,\"ticks\":\"\"},\"colorscale\":[[0.0,\"#0d0887\"],[0.1111111111111111,\"#46039f\"],[0.2222222222222222,\"#7201a8\"],[0.3333333333333333,\"#9c179e\"],[0.4444444444444444,\"#bd3786\"],[0.5555555555555556,\"#d8576b\"],[0.6666666666666666,\"#ed7953\"],[0.7777777777777778,\"#fb9f3a\"],[0.8888888888888888,\"#fdca26\"],[1.0,\"#f0f921\"]]}],\"heatmapgl\":[{\"type\":\"heatmapgl\",\"colorbar\":{\"outlinewidth\":0,\"ticks\":\"\"},\"colorscale\":[[0.0,\"#0d0887\"],[0.1111111111111111,\"#46039f\"],[0.2222222222222222,\"#7201a8\"],[0.3333333333333333,\"#9c179e\"],[0.4444444444444444,\"#bd3786\"],[0.5555555555555556,\"#d8576b\"],[0.6666666666666666,\"#ed7953\"],[0.7777777777777778,\"#fb9f3a\"],[0.8888888888888888,\"#fdca26\"],[1.0,\"#f0f921\"]]}],\"contourcarpet\":[{\"type\":\"contourcarpet\",\"colorbar\":{\"outlinewidth\":0,\"ticks\":\"\"}}],\"contour\":[{\"type\":\"contour\",\"colorbar\":{\"outlinewidth\":0,\"ticks\":\"\"},\"colorscale\":[[0.0,\"#0d0887\"],[0.1111111111111111,\"#46039f\"],[0.2222222222222222,\"#7201a8\"],[0.3333333333333333,\"#9c179e\"],[0.4444444444444444,\"#bd3786\"],[0.5555555555555556,\"#d8576b\"],[0.6666666666666666,\"#ed7953\"],[0.7777777777777778,\"#fb9f3a\"],[0.8888888888888888,\"#fdca26\"],[1.0,\"#f0f921\"]]}],\"surface\":[{\"type\":\"surface\",\"colorbar\":{\"outlinewidth\":0,\"ticks\":\"\"},\"colorscale\":[[0.0,\"#0d0887\"],[0.1111111111111111,\"#46039f\"],[0.2222222222222222,\"#7201a8\"],[0.3333333333333333,\"#9c179e\"],[0.4444444444444444,\"#bd3786\"],[0.5555555555555556,\"#d8576b\"],[0.6666666666666666,\"#ed7953\"],[0.7777777777777778,\"#fb9f3a\"],[0.8888888888888888,\"#fdca26\"],[1.0,\"#f0f921\"]]}],\"mesh3d\":[{\"type\":\"mesh3d\",\"colorbar\":{\"outlinewidth\":0,\"ticks\":\"\"}}],\"scatter\":[{\"fillpattern\":{\"fillmode\":\"overlay\",\"size\":10,\"solidity\":0.2},\"type\":\"scatter\"}],\"parcoords\":[{\"type\":\"parcoords\",\"line\":{\"colorbar\":{\"outlinewidth\":0,\"ticks\":\"\"}}}],\"scatterpolargl\":[{\"type\":\"scatterpolargl\",\"marker\":{\"colorbar\":{\"outlinewidth\":0,\"ticks\":\"\"}}}],\"bar\":[{\"error_x\":{\"color\":\"#2a3f5f\"},\"error_y\":{\"color\":\"#2a3f5f\"},\"marker\":{\"line\":{\"color\":\"#E5ECF6\",\"width\":0.5},\"pattern\":{\"fillmode\":\"overlay\",\"size\":10,\"solidity\":0.2}},\"type\":\"bar\"}],\"scattergeo\":[{\"type\":\"scattergeo\",\"marker\":{\"colorbar\":{\"outlinewidth\":0,\"ticks\":\"\"}}}],\"scatterpolar\":[{\"type\":\"scatterpolar\",\"marker\":{\"colorbar\":{\"outlinewidth\":0,\"ticks\":\"\"}}}],\"histogram\":[{\"marker\":{\"pattern\":{\"fillmode\":\"overlay\",\"size\":10,\"solidity\":0.2}},\"type\":\"histogram\"}],\"scattergl\":[{\"type\":\"scattergl\",\"marker\":{\"colorbar\":{\"outlinewidth\":0,\"ticks\":\"\"}}}],\"scatter3d\":[{\"type\":\"scatter3d\",\"line\":{\"colorbar\":{\"outlinewidth\":0,\"ticks\":\"\"}},\"marker\":{\"colorbar\":{\"outlinewidth\":0,\"ticks\":\"\"}}}],\"scattermapbox\":[{\"type\":\"scattermapbox\",\"marker\":{\"colorbar\":{\"outlinewidth\":0,\"ticks\":\"\"}}}],\"scatterternary\":[{\"type\":\"scatterternary\",\"marker\":{\"colorbar\":{\"outlinewidth\":0,\"ticks\":\"\"}}}],\"scattercarpet\":[{\"type\":\"scattercarpet\",\"marker\":{\"colorbar\":{\"outlinewidth\":0,\"ticks\":\"\"}}}],\"carpet\":[{\"aaxis\":{\"endlinecolor\":\"#2a3f5f\",\"gridcolor\":\"white\",\"linecolor\":\"white\",\"minorgridcolor\":\"white\",\"startlinecolor\":\"#2a3f5f\"},\"baxis\":{\"endlinecolor\":\"#2a3f5f\",\"gridcolor\":\"white\",\"linecolor\":\"white\",\"minorgridcolor\":\"white\",\"startlinecolor\":\"#2a3f5f\"},\"type\":\"carpet\"}],\"table\":[{\"cells\":{\"fill\":{\"color\":\"#EBF0F8\"},\"line\":{\"color\":\"white\"}},\"header\":{\"fill\":{\"color\":\"#C8D4E3\"},\"line\":{\"color\":\"white\"}},\"type\":\"table\"}],\"barpolar\":[{\"marker\":{\"line\":{\"color\":\"#E5ECF6\",\"width\":0.5},\"pattern\":{\"fillmode\":\"overlay\",\"size\":10,\"solidity\":0.2}},\"type\":\"barpolar\"}],\"pie\":[{\"automargin\":true,\"type\":\"pie\"}]},\"layout\":{\"autotypenumbers\":\"strict\",\"colorway\":[\"#636efa\",\"#EF553B\",\"#00cc96\",\"#ab63fa\",\"#FFA15A\",\"#19d3f3\",\"#FF6692\",\"#B6E880\",\"#FF97FF\",\"#FECB52\"],\"font\":{\"color\":\"#2a3f5f\"},\"hovermode\":\"closest\",\"hoverlabel\":{\"align\":\"left\"},\"paper_bgcolor\":\"white\",\"plot_bgcolor\":\"#E5ECF6\",\"polar\":{\"bgcolor\":\"#E5ECF6\",\"angularaxis\":{\"gridcolor\":\"white\",\"linecolor\":\"white\",\"ticks\":\"\"},\"radialaxis\":{\"gridcolor\":\"white\",\"linecolor\":\"white\",\"ticks\":\"\"}},\"ternary\":{\"bgcolor\":\"#E5ECF6\",\"aaxis\":{\"gridcolor\":\"white\",\"linecolor\":\"white\",\"ticks\":\"\"},\"baxis\":{\"gridcolor\":\"white\",\"linecolor\":\"white\",\"ticks\":\"\"},\"caxis\":{\"gridcolor\":\"white\",\"linecolor\":\"white\",\"ticks\":\"\"}},\"coloraxis\":{\"colorbar\":{\"outlinewidth\":0,\"ticks\":\"\"}},\"colorscale\":{\"sequential\":[[0.0,\"#0d0887\"],[0.1111111111111111,\"#46039f\"],[0.2222222222222222,\"#7201a8\"],[0.3333333333333333,\"#9c179e\"],[0.4444444444444444,\"#bd3786\"],[0.5555555555555556,\"#d8576b\"],[0.6666666666666666,\"#ed7953\"],[0.7777777777777778,\"#fb9f3a\"],[0.8888888888888888,\"#fdca26\"],[1.0,\"#f0f921\"]],\"sequentialminus\":[[0.0,\"#0d0887\"],[0.1111111111111111,\"#46039f\"],[0.2222222222222222,\"#7201a8\"],[0.3333333333333333,\"#9c179e\"],[0.4444444444444444,\"#bd3786\"],[0.5555555555555556,\"#d8576b\"],[0.6666666666666666,\"#ed7953\"],[0.7777777777777778,\"#fb9f3a\"],[0.8888888888888888,\"#fdca26\"],[1.0,\"#f0f921\"]],\"diverging\":[[0,\"#8e0152\"],[0.1,\"#c51b7d\"],[0.2,\"#de77ae\"],[0.3,\"#f1b6da\"],[0.4,\"#fde0ef\"],[0.5,\"#f7f7f7\"],[0.6,\"#e6f5d0\"],[0.7,\"#b8e186\"],[0.8,\"#7fbc41\"],[0.9,\"#4d9221\"],[1,\"#276419\"]]},\"xaxis\":{\"gridcolor\":\"white\",\"linecolor\":\"white\",\"ticks\":\"\",\"title\":{\"standoff\":15},\"zerolinecolor\":\"white\",\"automargin\":true,\"zerolinewidth\":2},\"yaxis\":{\"gridcolor\":\"white\",\"linecolor\":\"white\",\"ticks\":\"\",\"title\":{\"standoff\":15},\"zerolinecolor\":\"white\",\"automargin\":true,\"zerolinewidth\":2},\"scene\":{\"xaxis\":{\"backgroundcolor\":\"#E5ECF6\",\"gridcolor\":\"white\",\"linecolor\":\"white\",\"showbackground\":true,\"ticks\":\"\",\"zerolinecolor\":\"white\",\"gridwidth\":2},\"yaxis\":{\"backgroundcolor\":\"#E5ECF6\",\"gridcolor\":\"white\",\"linecolor\":\"white\",\"showbackground\":true,\"ticks\":\"\",\"zerolinecolor\":\"white\",\"gridwidth\":2},\"zaxis\":{\"backgroundcolor\":\"#E5ECF6\",\"gridcolor\":\"white\",\"linecolor\":\"white\",\"showbackground\":true,\"ticks\":\"\",\"zerolinecolor\":\"white\",\"gridwidth\":2}},\"shapedefaults\":{\"line\":{\"color\":\"#2a3f5f\"}},\"annotationdefaults\":{\"arrowcolor\":\"#2a3f5f\",\"arrowhead\":0,\"arrowwidth\":1},\"geo\":{\"bgcolor\":\"white\",\"landcolor\":\"#E5ECF6\",\"subunitcolor\":\"white\",\"showland\":true,\"showlakes\":true,\"lakecolor\":\"white\"},\"title\":{\"x\":0.05},\"mapbox\":{\"style\":\"light\"}}},\"xaxis\":{\"anchor\":\"y\",\"domain\":[0.0,1.0],\"title\":{\"text\":\"Date\"}},\"yaxis\":{\"anchor\":\"x\",\"domain\":[0.575,1.0],\"title\":{\"text\":\"Price\"}},\"xaxis2\":{\"anchor\":\"y2\",\"domain\":[0.0,1.0]},\"yaxis2\":{\"anchor\":\"x2\",\"domain\":[0.0,0.425]},\"title\":{\"text\":\"Algorithmic Trading using Momentum Strategy\"}},                        {\"responsive\": true}                    ).then(function(){\n",
              "                            \n",
              "var gd = document.getElementById('f0057066-c33e-4bc5-b21f-a508a0567fc0');\n",
              "var x = new MutationObserver(function (mutations, observer) {{\n",
              "        var display = window.getComputedStyle(gd).display;\n",
              "        if (!display || display === 'none') {{\n",
              "            console.log([gd, 'removed!']);\n",
              "            Plotly.purge(gd);\n",
              "            observer.disconnect();\n",
              "        }}\n",
              "}});\n",
              "\n",
              "// Listen for the removal of the full notebook cells\n",
              "var notebookContainer = gd.closest('#notebook-container');\n",
              "if (notebookContainer) {{\n",
              "    x.observe(notebookContainer, {childList: true});\n",
              "}}\n",
              "\n",
              "// Listen for the clearing of the current output cell\n",
              "var outputEl = gd.closest('.output');\n",
              "if (outputEl) {{\n",
              "    x.observe(outputEl, {childList: true});\n",
              "}}\n",
              "\n",
              "                        })                };                            </script>        </div>\n",
              "</body>\n",
              "</html>"
            ]
          },
          "metadata": {}
        }
      ]
    },
    {
      "cell_type": "markdown",
      "source": [
        "### So this is how we can implement an Algorithmic Trading strategy using the momentum strategy. In the above graph, the buy and sell signals are indicated by green triangle-up and red triangle-down markers respectively."
      ],
      "metadata": {
        "id": "BzcqNFEJFT9_"
      }
    },
    {
      "cell_type": "markdown",
      "source": [
        "# Summary\n",
        "\n",
        "- Algorithmic Trading means using algorithms in buying and selling decisions in the financial market. In an algorithmic trading strategy, a set of predefined rules are used to determine when to buy a financial instrument and when to sell it."
      ],
      "metadata": {
        "id": "-0UzJfxAFT9_"
      }
    }
  ]
}